{
 "cells": [
  {
   "cell_type": "code",
   "execution_count": null,
   "id": "0ae054dd",
   "metadata": {},
   "outputs": [],
   "source": [
    "# app.layout = html.Div([\n",
    "#     html.H1('Data Insights (Quarterly Sales)'),\n",
    "#     html.Div([\n",
    "#         html.Div(\n",
    "#         dcc.Link(\n",
    "#             f\"{page['name']} - {page['path']}\", href=page[\"relative_path\"]\n",
    "#         )\n",
    "#     )\n",
    "#         for page in dash.page_registry.values()\n",
    "#     ]),\n",
    "#     dash.page_container,\n",
    "#     dcc.Tabs(id = \"tabs\", value = 'tabs', children = [\n",
    "#         dcc.Tab(label = 'Tab One', value = 'tab-1'),\n",
    "#         dcc.Tab(label = 'Tab Two', value = 'tab-2'),\n",
    "#     ]),\n",
    "#     html.Div(id = 'tabs-content')\n",
    "# ])"
   ]
  },
  {
   "cell_type": "code",
   "execution_count": 2,
   "id": "1e1357a1",
   "metadata": {},
   "outputs": [
    {
     "name": "stdout",
     "output_type": "stream",
     "text": [
      "Dash is running on http://127.0.0.1:8001/\n",
      "\n",
      " * Serving Flask app '__main__'\n",
      " * Debug mode: on\n"
     ]
    }
   ],
   "source": [
    "from dash import Dash, html, dcc, callback\n",
    "import dash_bootstrap_components as dbc\n",
    "import dash\n",
    "\n",
    "app = Dash(__name__, use_pages=True)\n",
    "\n",
    "dash.register_page(\"home\",  path='/', \n",
    "                   layout=html.Div('Home Page'))\n",
    "dash.register_page(\"analytics\", layout = html.Div(children=[\n",
    "    html.H1(children='This is our Home page'),\n",
    "\n",
    "    html.Div(children='''\n",
    "        This is our Home page content.\n",
    "    '''),\n",
    "\n",
    "]))\n",
    "\n",
    "SIDEBAR_STYLE = {\n",
    "    \"position\": \"fixed\",\n",
    "    \"top\": 0,\n",
    "    \"left\": 0,\n",
    "    \"bottom\": 0,\n",
    "    \"width\": \"5rem\",\n",
    "    \"padding\": \"2rem 1rem\",\n",
    "    \"background-color\": \"#f8f9fa\",\n",
    "}\n",
    "\n",
    "sidebar = html.Div([\n",
    "    html.H2(\"Sidebar\"),\n",
    "    html.Hr(),\n",
    "    dbc.Nav([\n",
    "        dbc.NavLink([ html.Div(page[\"name\"], className = \"ms-2\"),],\n",
    "                   href = page[\"path\"],\n",
    "                   active = \"exact\",)\n",
    "        for page in dash.page_registry.values()\n",
    "    ], vertical = True,\n",
    "    pills = True,),\n",
    "], style = SIDEBAR_STYLE,)\n",
    "\n",
    "app.layout = dbc.Container([\n",
    "    dbc.Row([\n",
    "        dbc.Col(html.Div(\"Python Multipage App with Dash\",\n",
    "                         style={'fontSize':50, 'textAlign':'center'}))\n",
    "    ]),\n",
    "\n",
    "    html.Hr(),\n",
    "\n",
    "    dbc.Row(\n",
    "        [\n",
    "            dbc.Col(\n",
    "                [\n",
    "                    sidebar\n",
    "                ], xs=4, sm=4, md=2, lg=2, xl=2, xxl=2),\n",
    "\n",
    "            dbc.Col([\n",
    "                    dash.page_container,\n",
    "                    dcc.Tabs(id = \"tabs\", value = 'tabs', children = [\n",
    "                    dcc.Tab(label = 'Tab One', value = 'tab-1'),\n",
    "                    dcc.Tab(label = 'Tab Two', value = 'tab-2'),\n",
    "                ])], xs=8, sm=8, md=10, lg=10, xl=10, xxl=10)\n",
    "        ]\n",
    "                )\n",
    "], fluid=True)\n",
    "\n",
    "\n",
    "if __name__ == '__main__':\n",
    "    app.run_server(debug=True, port=8001, use_reloader=False)"
   ]
  },
  {
   "cell_type": "code",
   "execution_count": null,
   "id": "1f932ff9",
   "metadata": {},
   "outputs": [],
   "source": []
  },
  {
   "cell_type": "code",
   "execution_count": null,
   "id": "8e062f89",
   "metadata": {},
   "outputs": [],
   "source": []
  }
 ],
 "metadata": {
  "kernelspec": {
   "display_name": "Python 3 (ipykernel)",
   "language": "python",
   "name": "python3"
  },
  "language_info": {
   "codemirror_mode": {
    "name": "ipython",
    "version": 3
   },
   "file_extension": ".py",
   "mimetype": "text/x-python",
   "name": "python",
   "nbconvert_exporter": "python",
   "pygments_lexer": "ipython3",
   "version": "3.10.9"
  }
 },
 "nbformat": 4,
 "nbformat_minor": 5
}
