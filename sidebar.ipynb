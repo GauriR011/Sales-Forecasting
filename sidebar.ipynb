{
 "cells": [
  {
   "cell_type": "code",
   "execution_count": null,
   "id": "11010aff",
   "metadata": {},
   "outputs": [],
   "source": [
    "import dash\n",
    "from dash import html\n",
    "import dash_bootstrap_components as dbc\n",
    "\n",
    "\n",
    "def sidebar():\n",
    "    return html.Div(\n",
    "        dbc.Nav(\n",
    "            [\n",
    "                dbc.NavLink(\n",
    "                    [\n",
    "                        html.Div(page[\"name\"], className=\"ms-2\"),\n",
    "                    ],\n",
    "                    href=page[\"path\"],\n",
    "                    active=\"exact\",\n",
    "                )\n",
    "                for page in dash.page_registry.values()\n",
    "                if page[\"path\"].startswith(\"/Untitled\")\n",
    "            ],\n",
    "            vertical=True,\n",
    "            pills=True,\n",
    "            className=\"bg-light\",\n",
    "        )\n",
    "    )"
   ]
  }
 ],
 "metadata": {
  "kernelspec": {
   "display_name": "Python 3 (ipykernel)",
   "language": "python",
   "name": "python3"
  },
  "language_info": {
   "codemirror_mode": {
    "name": "ipython",
    "version": 3
   },
   "file_extension": ".py",
   "mimetype": "text/x-python",
   "name": "python",
   "nbconvert_exporter": "python",
   "pygments_lexer": "ipython3",
   "version": "3.10.9"
  }
 },
 "nbformat": 4,
 "nbformat_minor": 5
}
