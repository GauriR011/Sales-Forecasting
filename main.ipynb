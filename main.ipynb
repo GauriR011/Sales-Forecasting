{
 "cells": [
  {
   "attachments": {},
   "cell_type": "markdown",
   "id": "d5d4a514",
   "metadata": {},
   "source": [
    "# Importing Modules"
   ]
  },
  {
   "cell_type": "code",
   "execution_count": 2,
   "id": "b8f9fb59",
   "metadata": {},
   "outputs": [],
   "source": [
    "# !pip install dash\n",
    "# !pip install dash_mantine_components"
   ]
  },
  {
   "cell_type": "code",
   "execution_count": 3,
   "id": "76f6ea04",
   "metadata": {},
   "outputs": [],
   "source": [
    "# !pip install dash_bootstrap_components"
   ]
  },
  {
   "cell_type": "code",
   "execution_count": 4,
   "id": "d32f5dba",
   "metadata": {},
   "outputs": [],
   "source": [
    "import pandas as pd\n",
    "from datetime import datetime\n",
    "import plotly.express as px\n",
    "import plotly.graph_objects as go\n",
    "import plotly.io as pio\n",
    "import dash\n",
    "from dash import Dash, dcc, html, Input, Output, callback, dash_table\n",
    "import dash_bootstrap_components as dbc\n",
    "import dash_mantine_components as dmc\n",
    "\n",
    "from plotly.subplots import make_subplots\n",
    "from pandas.api.types import CategoricalDtype\n",
    "from pandas.tseries.offsets import DateOffset, QuarterEnd\n",
    "from datetime import datetime"
   ]
  },
  {
   "attachments": {},
   "cell_type": "markdown",
   "id": "97f5427a",
   "metadata": {},
   "source": [
    "# Importing Datasets"
   ]
  },
  {
   "cell_type": "code",
   "execution_count": 5,
   "id": "cc5e8b5a",
   "metadata": {},
   "outputs": [],
   "source": [
    "df = pd.read_csv(\"Dataset.csv\")"
   ]
  },
  {
   "cell_type": "code",
   "execution_count": 6,
   "id": "9dcc7ccb",
   "metadata": {},
   "outputs": [
    {
     "name": "stderr",
     "output_type": "stream",
     "text": [
      "c:\\Users\\revan\\anaconda3\\Lib\\site-packages\\_plotly_utils\\basevalidators.py:106: FutureWarning: The behavior of DatetimeProperties.to_pydatetime is deprecated, in a future version this will return a Series containing python datetime objects instead of an ndarray. To retain the old behavior, call `np.array` on the result\n",
      "  v = v.dt.to_pydatetime()\n"
     ]
    },
    {
     "data": {
      "application/vnd.plotly.v1+json": {
       "config": {
        "plotlyServerURL": "https://plot.ly"
       },
       "data": [
        {
         "alignmentgroup": "True",
         "hovertemplate": "Year=2012<br>Month=%{x}<br>Monthly Sales=%{y}<extra></extra>",
         "legendgroup": "2012",
         "marker": {
          "color": "#636efa",
          "pattern": {
           "shape": ""
          }
         },
         "name": "2012",
         "offsetgroup": "2012",
         "orientation": "v",
         "showlegend": true,
         "textposition": "auto",
         "type": "bar",
         "x": [
          "2012-11-01T00:00:00",
          "2012-12-01T00:00:00"
         ],
         "xaxis": "x",
         "y": [
          229729038,
          184093085
         ],
         "yaxis": "y"
        },
        {
         "alignmentgroup": "True",
         "hovertemplate": "Year=2013<br>Month=%{x}<br>Monthly Sales=%{y}<extra></extra>",
         "legendgroup": "2013",
         "marker": {
          "color": "#EF553B",
          "pattern": {
           "shape": ""
          }
         },
         "name": "2013",
         "offsetgroup": "2013",
         "orientation": "v",
         "showlegend": true,
         "textposition": "auto",
         "type": "bar",
         "x": [
          "2013-01-01T00:00:00",
          "2013-02-01T00:00:00",
          "2013-03-01T00:00:00",
          "2013-04-01T00:00:00",
          "2013-05-01T00:00:00",
          "2013-06-01T00:00:00",
          "2013-07-01T00:00:00"
         ],
         "xaxis": "x",
         "y": [
          182341072,
          184111773,
          227866409,
          182233164,
          227189791,
          181350596,
          180804444
         ],
         "yaxis": "y"
        }
       ],
       "layout": {
        "barmode": "relative",
        "legend": {
         "title": {
          "text": "Year"
         },
         "tracegroupgap": 0
        },
        "margin": {
         "t": 60
        },
        "template": {
         "data": {
          "bar": [
           {
            "error_x": {
             "color": "#2a3f5f"
            },
            "error_y": {
             "color": "#2a3f5f"
            },
            "marker": {
             "line": {
              "color": "#E5ECF6",
              "width": 0.5
             },
             "pattern": {
              "fillmode": "overlay",
              "size": 10,
              "solidity": 0.2
             }
            },
            "type": "bar"
           }
          ],
          "barpolar": [
           {
            "marker": {
             "line": {
              "color": "#E5ECF6",
              "width": 0.5
             },
             "pattern": {
              "fillmode": "overlay",
              "size": 10,
              "solidity": 0.2
             }
            },
            "type": "barpolar"
           }
          ],
          "carpet": [
           {
            "aaxis": {
             "endlinecolor": "#2a3f5f",
             "gridcolor": "white",
             "linecolor": "white",
             "minorgridcolor": "white",
             "startlinecolor": "#2a3f5f"
            },
            "baxis": {
             "endlinecolor": "#2a3f5f",
             "gridcolor": "white",
             "linecolor": "white",
             "minorgridcolor": "white",
             "startlinecolor": "#2a3f5f"
            },
            "type": "carpet"
           }
          ],
          "choropleth": [
           {
            "colorbar": {
             "outlinewidth": 0,
             "ticks": ""
            },
            "type": "choropleth"
           }
          ],
          "contour": [
           {
            "colorbar": {
             "outlinewidth": 0,
             "ticks": ""
            },
            "colorscale": [
             [
              0,
              "#0d0887"
             ],
             [
              0.1111111111111111,
              "#46039f"
             ],
             [
              0.2222222222222222,
              "#7201a8"
             ],
             [
              0.3333333333333333,
              "#9c179e"
             ],
             [
              0.4444444444444444,
              "#bd3786"
             ],
             [
              0.5555555555555556,
              "#d8576b"
             ],
             [
              0.6666666666666666,
              "#ed7953"
             ],
             [
              0.7777777777777778,
              "#fb9f3a"
             ],
             [
              0.8888888888888888,
              "#fdca26"
             ],
             [
              1,
              "#f0f921"
             ]
            ],
            "type": "contour"
           }
          ],
          "contourcarpet": [
           {
            "colorbar": {
             "outlinewidth": 0,
             "ticks": ""
            },
            "type": "contourcarpet"
           }
          ],
          "heatmap": [
           {
            "colorbar": {
             "outlinewidth": 0,
             "ticks": ""
            },
            "colorscale": [
             [
              0,
              "#0d0887"
             ],
             [
              0.1111111111111111,
              "#46039f"
             ],
             [
              0.2222222222222222,
              "#7201a8"
             ],
             [
              0.3333333333333333,
              "#9c179e"
             ],
             [
              0.4444444444444444,
              "#bd3786"
             ],
             [
              0.5555555555555556,
              "#d8576b"
             ],
             [
              0.6666666666666666,
              "#ed7953"
             ],
             [
              0.7777777777777778,
              "#fb9f3a"
             ],
             [
              0.8888888888888888,
              "#fdca26"
             ],
             [
              1,
              "#f0f921"
             ]
            ],
            "type": "heatmap"
           }
          ],
          "heatmapgl": [
           {
            "colorbar": {
             "outlinewidth": 0,
             "ticks": ""
            },
            "colorscale": [
             [
              0,
              "#0d0887"
             ],
             [
              0.1111111111111111,
              "#46039f"
             ],
             [
              0.2222222222222222,
              "#7201a8"
             ],
             [
              0.3333333333333333,
              "#9c179e"
             ],
             [
              0.4444444444444444,
              "#bd3786"
             ],
             [
              0.5555555555555556,
              "#d8576b"
             ],
             [
              0.6666666666666666,
              "#ed7953"
             ],
             [
              0.7777777777777778,
              "#fb9f3a"
             ],
             [
              0.8888888888888888,
              "#fdca26"
             ],
             [
              1,
              "#f0f921"
             ]
            ],
            "type": "heatmapgl"
           }
          ],
          "histogram": [
           {
            "marker": {
             "pattern": {
              "fillmode": "overlay",
              "size": 10,
              "solidity": 0.2
             }
            },
            "type": "histogram"
           }
          ],
          "histogram2d": [
           {
            "colorbar": {
             "outlinewidth": 0,
             "ticks": ""
            },
            "colorscale": [
             [
              0,
              "#0d0887"
             ],
             [
              0.1111111111111111,
              "#46039f"
             ],
             [
              0.2222222222222222,
              "#7201a8"
             ],
             [
              0.3333333333333333,
              "#9c179e"
             ],
             [
              0.4444444444444444,
              "#bd3786"
             ],
             [
              0.5555555555555556,
              "#d8576b"
             ],
             [
              0.6666666666666666,
              "#ed7953"
             ],
             [
              0.7777777777777778,
              "#fb9f3a"
             ],
             [
              0.8888888888888888,
              "#fdca26"
             ],
             [
              1,
              "#f0f921"
             ]
            ],
            "type": "histogram2d"
           }
          ],
          "histogram2dcontour": [
           {
            "colorbar": {
             "outlinewidth": 0,
             "ticks": ""
            },
            "colorscale": [
             [
              0,
              "#0d0887"
             ],
             [
              0.1111111111111111,
              "#46039f"
             ],
             [
              0.2222222222222222,
              "#7201a8"
             ],
             [
              0.3333333333333333,
              "#9c179e"
             ],
             [
              0.4444444444444444,
              "#bd3786"
             ],
             [
              0.5555555555555556,
              "#d8576b"
             ],
             [
              0.6666666666666666,
              "#ed7953"
             ],
             [
              0.7777777777777778,
              "#fb9f3a"
             ],
             [
              0.8888888888888888,
              "#fdca26"
             ],
             [
              1,
              "#f0f921"
             ]
            ],
            "type": "histogram2dcontour"
           }
          ],
          "mesh3d": [
           {
            "colorbar": {
             "outlinewidth": 0,
             "ticks": ""
            },
            "type": "mesh3d"
           }
          ],
          "parcoords": [
           {
            "line": {
             "colorbar": {
              "outlinewidth": 0,
              "ticks": ""
             }
            },
            "type": "parcoords"
           }
          ],
          "pie": [
           {
            "automargin": true,
            "type": "pie"
           }
          ],
          "scatter": [
           {
            "fillpattern": {
             "fillmode": "overlay",
             "size": 10,
             "solidity": 0.2
            },
            "type": "scatter"
           }
          ],
          "scatter3d": [
           {
            "line": {
             "colorbar": {
              "outlinewidth": 0,
              "ticks": ""
             }
            },
            "marker": {
             "colorbar": {
              "outlinewidth": 0,
              "ticks": ""
             }
            },
            "type": "scatter3d"
           }
          ],
          "scattercarpet": [
           {
            "marker": {
             "colorbar": {
              "outlinewidth": 0,
              "ticks": ""
             }
            },
            "type": "scattercarpet"
           }
          ],
          "scattergeo": [
           {
            "marker": {
             "colorbar": {
              "outlinewidth": 0,
              "ticks": ""
             }
            },
            "type": "scattergeo"
           }
          ],
          "scattergl": [
           {
            "marker": {
             "colorbar": {
              "outlinewidth": 0,
              "ticks": ""
             }
            },
            "type": "scattergl"
           }
          ],
          "scattermapbox": [
           {
            "marker": {
             "colorbar": {
              "outlinewidth": 0,
              "ticks": ""
             }
            },
            "type": "scattermapbox"
           }
          ],
          "scatterpolar": [
           {
            "marker": {
             "colorbar": {
              "outlinewidth": 0,
              "ticks": ""
             }
            },
            "type": "scatterpolar"
           }
          ],
          "scatterpolargl": [
           {
            "marker": {
             "colorbar": {
              "outlinewidth": 0,
              "ticks": ""
             }
            },
            "type": "scatterpolargl"
           }
          ],
          "scatterternary": [
           {
            "marker": {
             "colorbar": {
              "outlinewidth": 0,
              "ticks": ""
             }
            },
            "type": "scatterternary"
           }
          ],
          "surface": [
           {
            "colorbar": {
             "outlinewidth": 0,
             "ticks": ""
            },
            "colorscale": [
             [
              0,
              "#0d0887"
             ],
             [
              0.1111111111111111,
              "#46039f"
             ],
             [
              0.2222222222222222,
              "#7201a8"
             ],
             [
              0.3333333333333333,
              "#9c179e"
             ],
             [
              0.4444444444444444,
              "#bd3786"
             ],
             [
              0.5555555555555556,
              "#d8576b"
             ],
             [
              0.6666666666666666,
              "#ed7953"
             ],
             [
              0.7777777777777778,
              "#fb9f3a"
             ],
             [
              0.8888888888888888,
              "#fdca26"
             ],
             [
              1,
              "#f0f921"
             ]
            ],
            "type": "surface"
           }
          ],
          "table": [
           {
            "cells": {
             "fill": {
              "color": "#EBF0F8"
             },
             "line": {
              "color": "white"
             }
            },
            "header": {
             "fill": {
              "color": "#C8D4E3"
             },
             "line": {
              "color": "white"
             }
            },
            "type": "table"
           }
          ]
         },
         "layout": {
          "annotationdefaults": {
           "arrowcolor": "#2a3f5f",
           "arrowhead": 0,
           "arrowwidth": 1
          },
          "autotypenumbers": "strict",
          "coloraxis": {
           "colorbar": {
            "outlinewidth": 0,
            "ticks": ""
           }
          },
          "colorscale": {
           "diverging": [
            [
             0,
             "#8e0152"
            ],
            [
             0.1,
             "#c51b7d"
            ],
            [
             0.2,
             "#de77ae"
            ],
            [
             0.3,
             "#f1b6da"
            ],
            [
             0.4,
             "#fde0ef"
            ],
            [
             0.5,
             "#f7f7f7"
            ],
            [
             0.6,
             "#e6f5d0"
            ],
            [
             0.7,
             "#b8e186"
            ],
            [
             0.8,
             "#7fbc41"
            ],
            [
             0.9,
             "#4d9221"
            ],
            [
             1,
             "#276419"
            ]
           ],
           "sequential": [
            [
             0,
             "#0d0887"
            ],
            [
             0.1111111111111111,
             "#46039f"
            ],
            [
             0.2222222222222222,
             "#7201a8"
            ],
            [
             0.3333333333333333,
             "#9c179e"
            ],
            [
             0.4444444444444444,
             "#bd3786"
            ],
            [
             0.5555555555555556,
             "#d8576b"
            ],
            [
             0.6666666666666666,
             "#ed7953"
            ],
            [
             0.7777777777777778,
             "#fb9f3a"
            ],
            [
             0.8888888888888888,
             "#fdca26"
            ],
            [
             1,
             "#f0f921"
            ]
           ],
           "sequentialminus": [
            [
             0,
             "#0d0887"
            ],
            [
             0.1111111111111111,
             "#46039f"
            ],
            [
             0.2222222222222222,
             "#7201a8"
            ],
            [
             0.3333333333333333,
             "#9c179e"
            ],
            [
             0.4444444444444444,
             "#bd3786"
            ],
            [
             0.5555555555555556,
             "#d8576b"
            ],
            [
             0.6666666666666666,
             "#ed7953"
            ],
            [
             0.7777777777777778,
             "#fb9f3a"
            ],
            [
             0.8888888888888888,
             "#fdca26"
            ],
            [
             1,
             "#f0f921"
            ]
           ]
          },
          "colorway": [
           "#636efa",
           "#EF553B",
           "#00cc96",
           "#ab63fa",
           "#FFA15A",
           "#19d3f3",
           "#FF6692",
           "#B6E880",
           "#FF97FF",
           "#FECB52"
          ],
          "font": {
           "color": "#2a3f5f"
          },
          "geo": {
           "bgcolor": "white",
           "lakecolor": "white",
           "landcolor": "#E5ECF6",
           "showlakes": true,
           "showland": true,
           "subunitcolor": "white"
          },
          "hoverlabel": {
           "align": "left"
          },
          "hovermode": "closest",
          "mapbox": {
           "style": "light"
          },
          "paper_bgcolor": "white",
          "plot_bgcolor": "#E5ECF6",
          "polar": {
           "angularaxis": {
            "gridcolor": "white",
            "linecolor": "white",
            "ticks": ""
           },
           "bgcolor": "#E5ECF6",
           "radialaxis": {
            "gridcolor": "white",
            "linecolor": "white",
            "ticks": ""
           }
          },
          "scene": {
           "xaxis": {
            "backgroundcolor": "#E5ECF6",
            "gridcolor": "white",
            "gridwidth": 2,
            "linecolor": "white",
            "showbackground": true,
            "ticks": "",
            "zerolinecolor": "white"
           },
           "yaxis": {
            "backgroundcolor": "#E5ECF6",
            "gridcolor": "white",
            "gridwidth": 2,
            "linecolor": "white",
            "showbackground": true,
            "ticks": "",
            "zerolinecolor": "white"
           },
           "zaxis": {
            "backgroundcolor": "#E5ECF6",
            "gridcolor": "white",
            "gridwidth": 2,
            "linecolor": "white",
            "showbackground": true,
            "ticks": "",
            "zerolinecolor": "white"
           }
          },
          "shapedefaults": {
           "line": {
            "color": "#2a3f5f"
           }
          },
          "ternary": {
           "aaxis": {
            "gridcolor": "white",
            "linecolor": "white",
            "ticks": ""
           },
           "baxis": {
            "gridcolor": "white",
            "linecolor": "white",
            "ticks": ""
           },
           "bgcolor": "#E5ECF6",
           "caxis": {
            "gridcolor": "white",
            "linecolor": "white",
            "ticks": ""
           }
          },
          "title": {
           "x": 0.05
          },
          "xaxis": {
           "automargin": true,
           "gridcolor": "white",
           "linecolor": "white",
           "ticks": "",
           "title": {
            "standoff": 15
           },
           "zerolinecolor": "white",
           "zerolinewidth": 2
          },
          "yaxis": {
           "automargin": true,
           "gridcolor": "white",
           "linecolor": "white",
           "ticks": "",
           "title": {
            "standoff": 15
           },
           "zerolinecolor": "white",
           "zerolinewidth": 2
          }
         }
        },
        "xaxis": {
         "anchor": "y",
         "domain": [
          0,
          1
         ],
         "title": {
          "text": "Month"
         }
        },
        "yaxis": {
         "anchor": "x",
         "domain": [
          0,
          1
         ],
         "title": {
          "text": "Monthly Sales"
         }
        }
       }
      }
     },
     "metadata": {},
     "output_type": "display_data"
    }
   ],
   "source": [
    "mf = pd.read_csv(\"M_Sales.csv\")\n",
    "mf[\"Date\"] = pd.to_datetime(mf[\"Date\"])\n",
    "mf_col = mf.groupby(mf['Date'].dt.to_period('M'))['Weekly_Sales'].sum()\n",
    "\n",
    "monthly = px.bar(\n",
    "    data_frame = mf.reset_index(),\n",
    "    x = \"Date\",\n",
    "    y=\"Weekly_Sales\",\n",
    "    color =  mf_col.index.strftime(\"%Y\"),\n",
    "    labels= {\"Weekly_Sales\":'Monthly Sales', \"Date\":'Month', 'color':'Year'},\n",
    "    barmode='relative'\n",
    ")\n",
    "pio.show(monthly)"
   ]
  },
  {
   "cell_type": "code",
   "execution_count": 7,
   "id": "43b45d7f",
   "metadata": {},
   "outputs": [
    {
     "name": "stderr",
     "output_type": "stream",
     "text": [
      "C:\\Users\\revan\\AppData\\Local\\Temp\\ipykernel_22184\\1523353378.py:3: UserWarning:\n",
      "\n",
      "Could not infer format, so each element will be parsed individually, falling back to `dateutil`. To ensure parsing is consistent and as-expected, please specify a format.\n",
      "\n",
      "c:\\Users\\revan\\anaconda3\\Lib\\site-packages\\_plotly_utils\\basevalidators.py:106: FutureWarning:\n",
      "\n",
      "The behavior of DatetimeProperties.to_pydatetime is deprecated, in a future version this will return a Series containing python datetime objects instead of an ndarray. To retain the old behavior, call `np.array` on the result\n",
      "\n"
     ]
    },
    {
     "data": {
      "application/vnd.plotly.v1+json": {
       "config": {
        "plotlyServerURL": "https://plot.ly"
       },
       "data": [
        {
         "alignmentgroup": "True",
         "hovertemplate": "Year=2012<br>Quarter=%{x}<br>Quarterly Sales=%{y}<extra></extra>",
         "legendgroup": "2012",
         "marker": {
          "color": "#636efa",
          "pattern": {
           "shape": ""
          }
         },
         "name": "2012",
         "offsetgroup": "2012",
         "orientation": "v",
         "showlegend": true,
         "textposition": "auto",
         "type": "bar",
         "x": [
          "2012-10-01T00:00:00"
         ],
         "xaxis": "x",
         "y": [
          413822123
         ],
         "yaxis": "y"
        },
        {
         "alignmentgroup": "True",
         "hovertemplate": "Year=2013<br>Quarter=%{x}<br>Quarterly Sales=%{y}<extra></extra>",
         "legendgroup": "2013",
         "marker": {
          "color": "#EF553B",
          "pattern": {
           "shape": ""
          }
         },
         "name": "2013",
         "offsetgroup": "2013",
         "orientation": "v",
         "showlegend": true,
         "textposition": "auto",
         "type": "bar",
         "x": [
          "2013-01-01T00:00:00",
          "2013-04-01T00:00:00",
          "2013-07-01T00:00:00"
         ],
         "xaxis": "x",
         "y": [
          594319255,
          590773552,
          180804444
         ],
         "yaxis": "y"
        }
       ],
       "layout": {
        "barmode": "relative",
        "legend": {
         "title": {
          "text": "Year"
         },
         "tracegroupgap": 0
        },
        "margin": {
         "t": 60
        },
        "template": {
         "data": {
          "bar": [
           {
            "error_x": {
             "color": "#2a3f5f"
            },
            "error_y": {
             "color": "#2a3f5f"
            },
            "marker": {
             "line": {
              "color": "#E5ECF6",
              "width": 0.5
             },
             "pattern": {
              "fillmode": "overlay",
              "size": 10,
              "solidity": 0.2
             }
            },
            "type": "bar"
           }
          ],
          "barpolar": [
           {
            "marker": {
             "line": {
              "color": "#E5ECF6",
              "width": 0.5
             },
             "pattern": {
              "fillmode": "overlay",
              "size": 10,
              "solidity": 0.2
             }
            },
            "type": "barpolar"
           }
          ],
          "carpet": [
           {
            "aaxis": {
             "endlinecolor": "#2a3f5f",
             "gridcolor": "white",
             "linecolor": "white",
             "minorgridcolor": "white",
             "startlinecolor": "#2a3f5f"
            },
            "baxis": {
             "endlinecolor": "#2a3f5f",
             "gridcolor": "white",
             "linecolor": "white",
             "minorgridcolor": "white",
             "startlinecolor": "#2a3f5f"
            },
            "type": "carpet"
           }
          ],
          "choropleth": [
           {
            "colorbar": {
             "outlinewidth": 0,
             "ticks": ""
            },
            "type": "choropleth"
           }
          ],
          "contour": [
           {
            "colorbar": {
             "outlinewidth": 0,
             "ticks": ""
            },
            "colorscale": [
             [
              0,
              "#0d0887"
             ],
             [
              0.1111111111111111,
              "#46039f"
             ],
             [
              0.2222222222222222,
              "#7201a8"
             ],
             [
              0.3333333333333333,
              "#9c179e"
             ],
             [
              0.4444444444444444,
              "#bd3786"
             ],
             [
              0.5555555555555556,
              "#d8576b"
             ],
             [
              0.6666666666666666,
              "#ed7953"
             ],
             [
              0.7777777777777778,
              "#fb9f3a"
             ],
             [
              0.8888888888888888,
              "#fdca26"
             ],
             [
              1,
              "#f0f921"
             ]
            ],
            "type": "contour"
           }
          ],
          "contourcarpet": [
           {
            "colorbar": {
             "outlinewidth": 0,
             "ticks": ""
            },
            "type": "contourcarpet"
           }
          ],
          "heatmap": [
           {
            "colorbar": {
             "outlinewidth": 0,
             "ticks": ""
            },
            "colorscale": [
             [
              0,
              "#0d0887"
             ],
             [
              0.1111111111111111,
              "#46039f"
             ],
             [
              0.2222222222222222,
              "#7201a8"
             ],
             [
              0.3333333333333333,
              "#9c179e"
             ],
             [
              0.4444444444444444,
              "#bd3786"
             ],
             [
              0.5555555555555556,
              "#d8576b"
             ],
             [
              0.6666666666666666,
              "#ed7953"
             ],
             [
              0.7777777777777778,
              "#fb9f3a"
             ],
             [
              0.8888888888888888,
              "#fdca26"
             ],
             [
              1,
              "#f0f921"
             ]
            ],
            "type": "heatmap"
           }
          ],
          "heatmapgl": [
           {
            "colorbar": {
             "outlinewidth": 0,
             "ticks": ""
            },
            "colorscale": [
             [
              0,
              "#0d0887"
             ],
             [
              0.1111111111111111,
              "#46039f"
             ],
             [
              0.2222222222222222,
              "#7201a8"
             ],
             [
              0.3333333333333333,
              "#9c179e"
             ],
             [
              0.4444444444444444,
              "#bd3786"
             ],
             [
              0.5555555555555556,
              "#d8576b"
             ],
             [
              0.6666666666666666,
              "#ed7953"
             ],
             [
              0.7777777777777778,
              "#fb9f3a"
             ],
             [
              0.8888888888888888,
              "#fdca26"
             ],
             [
              1,
              "#f0f921"
             ]
            ],
            "type": "heatmapgl"
           }
          ],
          "histogram": [
           {
            "marker": {
             "pattern": {
              "fillmode": "overlay",
              "size": 10,
              "solidity": 0.2
             }
            },
            "type": "histogram"
           }
          ],
          "histogram2d": [
           {
            "colorbar": {
             "outlinewidth": 0,
             "ticks": ""
            },
            "colorscale": [
             [
              0,
              "#0d0887"
             ],
             [
              0.1111111111111111,
              "#46039f"
             ],
             [
              0.2222222222222222,
              "#7201a8"
             ],
             [
              0.3333333333333333,
              "#9c179e"
             ],
             [
              0.4444444444444444,
              "#bd3786"
             ],
             [
              0.5555555555555556,
              "#d8576b"
             ],
             [
              0.6666666666666666,
              "#ed7953"
             ],
             [
              0.7777777777777778,
              "#fb9f3a"
             ],
             [
              0.8888888888888888,
              "#fdca26"
             ],
             [
              1,
              "#f0f921"
             ]
            ],
            "type": "histogram2d"
           }
          ],
          "histogram2dcontour": [
           {
            "colorbar": {
             "outlinewidth": 0,
             "ticks": ""
            },
            "colorscale": [
             [
              0,
              "#0d0887"
             ],
             [
              0.1111111111111111,
              "#46039f"
             ],
             [
              0.2222222222222222,
              "#7201a8"
             ],
             [
              0.3333333333333333,
              "#9c179e"
             ],
             [
              0.4444444444444444,
              "#bd3786"
             ],
             [
              0.5555555555555556,
              "#d8576b"
             ],
             [
              0.6666666666666666,
              "#ed7953"
             ],
             [
              0.7777777777777778,
              "#fb9f3a"
             ],
             [
              0.8888888888888888,
              "#fdca26"
             ],
             [
              1,
              "#f0f921"
             ]
            ],
            "type": "histogram2dcontour"
           }
          ],
          "mesh3d": [
           {
            "colorbar": {
             "outlinewidth": 0,
             "ticks": ""
            },
            "type": "mesh3d"
           }
          ],
          "parcoords": [
           {
            "line": {
             "colorbar": {
              "outlinewidth": 0,
              "ticks": ""
             }
            },
            "type": "parcoords"
           }
          ],
          "pie": [
           {
            "automargin": true,
            "type": "pie"
           }
          ],
          "scatter": [
           {
            "fillpattern": {
             "fillmode": "overlay",
             "size": 10,
             "solidity": 0.2
            },
            "type": "scatter"
           }
          ],
          "scatter3d": [
           {
            "line": {
             "colorbar": {
              "outlinewidth": 0,
              "ticks": ""
             }
            },
            "marker": {
             "colorbar": {
              "outlinewidth": 0,
              "ticks": ""
             }
            },
            "type": "scatter3d"
           }
          ],
          "scattercarpet": [
           {
            "marker": {
             "colorbar": {
              "outlinewidth": 0,
              "ticks": ""
             }
            },
            "type": "scattercarpet"
           }
          ],
          "scattergeo": [
           {
            "marker": {
             "colorbar": {
              "outlinewidth": 0,
              "ticks": ""
             }
            },
            "type": "scattergeo"
           }
          ],
          "scattergl": [
           {
            "marker": {
             "colorbar": {
              "outlinewidth": 0,
              "ticks": ""
             }
            },
            "type": "scattergl"
           }
          ],
          "scattermapbox": [
           {
            "marker": {
             "colorbar": {
              "outlinewidth": 0,
              "ticks": ""
             }
            },
            "type": "scattermapbox"
           }
          ],
          "scatterpolar": [
           {
            "marker": {
             "colorbar": {
              "outlinewidth": 0,
              "ticks": ""
             }
            },
            "type": "scatterpolar"
           }
          ],
          "scatterpolargl": [
           {
            "marker": {
             "colorbar": {
              "outlinewidth": 0,
              "ticks": ""
             }
            },
            "type": "scatterpolargl"
           }
          ],
          "scatterternary": [
           {
            "marker": {
             "colorbar": {
              "outlinewidth": 0,
              "ticks": ""
             }
            },
            "type": "scatterternary"
           }
          ],
          "surface": [
           {
            "colorbar": {
             "outlinewidth": 0,
             "ticks": ""
            },
            "colorscale": [
             [
              0,
              "#0d0887"
             ],
             [
              0.1111111111111111,
              "#46039f"
             ],
             [
              0.2222222222222222,
              "#7201a8"
             ],
             [
              0.3333333333333333,
              "#9c179e"
             ],
             [
              0.4444444444444444,
              "#bd3786"
             ],
             [
              0.5555555555555556,
              "#d8576b"
             ],
             [
              0.6666666666666666,
              "#ed7953"
             ],
             [
              0.7777777777777778,
              "#fb9f3a"
             ],
             [
              0.8888888888888888,
              "#fdca26"
             ],
             [
              1,
              "#f0f921"
             ]
            ],
            "type": "surface"
           }
          ],
          "table": [
           {
            "cells": {
             "fill": {
              "color": "#EBF0F8"
             },
             "line": {
              "color": "white"
             }
            },
            "header": {
             "fill": {
              "color": "#C8D4E3"
             },
             "line": {
              "color": "white"
             }
            },
            "type": "table"
           }
          ]
         },
         "layout": {
          "annotationdefaults": {
           "arrowcolor": "#2a3f5f",
           "arrowhead": 0,
           "arrowwidth": 1
          },
          "autotypenumbers": "strict",
          "coloraxis": {
           "colorbar": {
            "outlinewidth": 0,
            "ticks": ""
           }
          },
          "colorscale": {
           "diverging": [
            [
             0,
             "#8e0152"
            ],
            [
             0.1,
             "#c51b7d"
            ],
            [
             0.2,
             "#de77ae"
            ],
            [
             0.3,
             "#f1b6da"
            ],
            [
             0.4,
             "#fde0ef"
            ],
            [
             0.5,
             "#f7f7f7"
            ],
            [
             0.6,
             "#e6f5d0"
            ],
            [
             0.7,
             "#b8e186"
            ],
            [
             0.8,
             "#7fbc41"
            ],
            [
             0.9,
             "#4d9221"
            ],
            [
             1,
             "#276419"
            ]
           ],
           "sequential": [
            [
             0,
             "#0d0887"
            ],
            [
             0.1111111111111111,
             "#46039f"
            ],
            [
             0.2222222222222222,
             "#7201a8"
            ],
            [
             0.3333333333333333,
             "#9c179e"
            ],
            [
             0.4444444444444444,
             "#bd3786"
            ],
            [
             0.5555555555555556,
             "#d8576b"
            ],
            [
             0.6666666666666666,
             "#ed7953"
            ],
            [
             0.7777777777777778,
             "#fb9f3a"
            ],
            [
             0.8888888888888888,
             "#fdca26"
            ],
            [
             1,
             "#f0f921"
            ]
           ],
           "sequentialminus": [
            [
             0,
             "#0d0887"
            ],
            [
             0.1111111111111111,
             "#46039f"
            ],
            [
             0.2222222222222222,
             "#7201a8"
            ],
            [
             0.3333333333333333,
             "#9c179e"
            ],
            [
             0.4444444444444444,
             "#bd3786"
            ],
            [
             0.5555555555555556,
             "#d8576b"
            ],
            [
             0.6666666666666666,
             "#ed7953"
            ],
            [
             0.7777777777777778,
             "#fb9f3a"
            ],
            [
             0.8888888888888888,
             "#fdca26"
            ],
            [
             1,
             "#f0f921"
            ]
           ]
          },
          "colorway": [
           "#636efa",
           "#EF553B",
           "#00cc96",
           "#ab63fa",
           "#FFA15A",
           "#19d3f3",
           "#FF6692",
           "#B6E880",
           "#FF97FF",
           "#FECB52"
          ],
          "font": {
           "color": "#2a3f5f"
          },
          "geo": {
           "bgcolor": "white",
           "lakecolor": "white",
           "landcolor": "#E5ECF6",
           "showlakes": true,
           "showland": true,
           "subunitcolor": "white"
          },
          "hoverlabel": {
           "align": "left"
          },
          "hovermode": "closest",
          "mapbox": {
           "style": "light"
          },
          "paper_bgcolor": "white",
          "plot_bgcolor": "#E5ECF6",
          "polar": {
           "angularaxis": {
            "gridcolor": "white",
            "linecolor": "white",
            "ticks": ""
           },
           "bgcolor": "#E5ECF6",
           "radialaxis": {
            "gridcolor": "white",
            "linecolor": "white",
            "ticks": ""
           }
          },
          "scene": {
           "xaxis": {
            "backgroundcolor": "#E5ECF6",
            "gridcolor": "white",
            "gridwidth": 2,
            "linecolor": "white",
            "showbackground": true,
            "ticks": "",
            "zerolinecolor": "white"
           },
           "yaxis": {
            "backgroundcolor": "#E5ECF6",
            "gridcolor": "white",
            "gridwidth": 2,
            "linecolor": "white",
            "showbackground": true,
            "ticks": "",
            "zerolinecolor": "white"
           },
           "zaxis": {
            "backgroundcolor": "#E5ECF6",
            "gridcolor": "white",
            "gridwidth": 2,
            "linecolor": "white",
            "showbackground": true,
            "ticks": "",
            "zerolinecolor": "white"
           }
          },
          "shapedefaults": {
           "line": {
            "color": "#2a3f5f"
           }
          },
          "ternary": {
           "aaxis": {
            "gridcolor": "white",
            "linecolor": "white",
            "ticks": ""
           },
           "baxis": {
            "gridcolor": "white",
            "linecolor": "white",
            "ticks": ""
           },
           "bgcolor": "#E5ECF6",
           "caxis": {
            "gridcolor": "white",
            "linecolor": "white",
            "ticks": ""
           }
          },
          "title": {
           "x": 0.05
          },
          "xaxis": {
           "automargin": true,
           "gridcolor": "white",
           "linecolor": "white",
           "ticks": "",
           "title": {
            "standoff": 15
           },
           "zerolinecolor": "white",
           "zerolinewidth": 2
          },
          "yaxis": {
           "automargin": true,
           "gridcolor": "white",
           "linecolor": "white",
           "ticks": "",
           "title": {
            "standoff": 15
           },
           "zerolinecolor": "white",
           "zerolinewidth": 2
          }
         }
        },
        "xaxis": {
         "anchor": "y",
         "domain": [
          0,
          1
         ],
         "title": {
          "text": "Quarter"
         }
        },
        "yaxis": {
         "anchor": "x",
         "domain": [
          0,
          1
         ],
         "title": {
          "text": "Quarterly Sales"
         }
        }
       }
      }
     },
     "metadata": {},
     "output_type": "display_data"
    }
   ],
   "source": [
    "qf = pd.read_csv(\"Q_Sales.csv\")\n",
    "\n",
    "qf[\"Date\"] = pd.to_datetime(qf[\"Date\"])\n",
    "qf_col = qf.groupby(qf['Date'].dt.to_period('Q'))['Weekly_Sales'].sum()\n",
    "\n",
    "quarterly = px.bar(\n",
    "    data_frame = qf.reset_index(),\n",
    "    x = \"Date\",\n",
    "    y = \"Weekly_Sales\",\n",
    "    color =  qf_col.index.strftime(\"%Y\"),\n",
    "    labels= {\"Weekly_Sales\":'Quarterly Sales', \"Date\":'Quarter', 'color':'Year'},\n",
    "    barmode='relative'\n",
    ")\n",
    "\n",
    "pio.show(quarterly)"
   ]
  },
  {
   "cell_type": "code",
   "execution_count": 8,
   "id": "ecb43275",
   "metadata": {},
   "outputs": [
    {
     "data": {
      "application/vnd.plotly.v1+json": {
       "config": {
        "plotlyServerURL": "https://plot.ly"
       },
       "data": [
        {
         "alignmentgroup": "True",
         "hovertemplate": "Year=%{x}<br>Yearly Sales=%{y}<extra></extra>",
         "legendgroup": "",
         "marker": {
          "color": "#636efa",
          "pattern": {
           "shape": ""
          }
         },
         "name": "",
         "offsetgroup": "",
         "orientation": "v",
         "showlegend": false,
         "textposition": "auto",
         "type": "bar",
         "x": [
          2012,
          2013
         ],
         "xaxis": "x",
         "y": [
          413822123,
          1365897251
         ],
         "yaxis": "y"
        }
       ],
       "layout": {
        "barmode": "group",
        "legend": {
         "tracegroupgap": 0
        },
        "margin": {
         "t": 60
        },
        "template": {
         "data": {
          "bar": [
           {
            "error_x": {
             "color": "#2a3f5f"
            },
            "error_y": {
             "color": "#2a3f5f"
            },
            "marker": {
             "line": {
              "color": "#E5ECF6",
              "width": 0.5
             },
             "pattern": {
              "fillmode": "overlay",
              "size": 10,
              "solidity": 0.2
             }
            },
            "type": "bar"
           }
          ],
          "barpolar": [
           {
            "marker": {
             "line": {
              "color": "#E5ECF6",
              "width": 0.5
             },
             "pattern": {
              "fillmode": "overlay",
              "size": 10,
              "solidity": 0.2
             }
            },
            "type": "barpolar"
           }
          ],
          "carpet": [
           {
            "aaxis": {
             "endlinecolor": "#2a3f5f",
             "gridcolor": "white",
             "linecolor": "white",
             "minorgridcolor": "white",
             "startlinecolor": "#2a3f5f"
            },
            "baxis": {
             "endlinecolor": "#2a3f5f",
             "gridcolor": "white",
             "linecolor": "white",
             "minorgridcolor": "white",
             "startlinecolor": "#2a3f5f"
            },
            "type": "carpet"
           }
          ],
          "choropleth": [
           {
            "colorbar": {
             "outlinewidth": 0,
             "ticks": ""
            },
            "type": "choropleth"
           }
          ],
          "contour": [
           {
            "colorbar": {
             "outlinewidth": 0,
             "ticks": ""
            },
            "colorscale": [
             [
              0,
              "#0d0887"
             ],
             [
              0.1111111111111111,
              "#46039f"
             ],
             [
              0.2222222222222222,
              "#7201a8"
             ],
             [
              0.3333333333333333,
              "#9c179e"
             ],
             [
              0.4444444444444444,
              "#bd3786"
             ],
             [
              0.5555555555555556,
              "#d8576b"
             ],
             [
              0.6666666666666666,
              "#ed7953"
             ],
             [
              0.7777777777777778,
              "#fb9f3a"
             ],
             [
              0.8888888888888888,
              "#fdca26"
             ],
             [
              1,
              "#f0f921"
             ]
            ],
            "type": "contour"
           }
          ],
          "contourcarpet": [
           {
            "colorbar": {
             "outlinewidth": 0,
             "ticks": ""
            },
            "type": "contourcarpet"
           }
          ],
          "heatmap": [
           {
            "colorbar": {
             "outlinewidth": 0,
             "ticks": ""
            },
            "colorscale": [
             [
              0,
              "#0d0887"
             ],
             [
              0.1111111111111111,
              "#46039f"
             ],
             [
              0.2222222222222222,
              "#7201a8"
             ],
             [
              0.3333333333333333,
              "#9c179e"
             ],
             [
              0.4444444444444444,
              "#bd3786"
             ],
             [
              0.5555555555555556,
              "#d8576b"
             ],
             [
              0.6666666666666666,
              "#ed7953"
             ],
             [
              0.7777777777777778,
              "#fb9f3a"
             ],
             [
              0.8888888888888888,
              "#fdca26"
             ],
             [
              1,
              "#f0f921"
             ]
            ],
            "type": "heatmap"
           }
          ],
          "heatmapgl": [
           {
            "colorbar": {
             "outlinewidth": 0,
             "ticks": ""
            },
            "colorscale": [
             [
              0,
              "#0d0887"
             ],
             [
              0.1111111111111111,
              "#46039f"
             ],
             [
              0.2222222222222222,
              "#7201a8"
             ],
             [
              0.3333333333333333,
              "#9c179e"
             ],
             [
              0.4444444444444444,
              "#bd3786"
             ],
             [
              0.5555555555555556,
              "#d8576b"
             ],
             [
              0.6666666666666666,
              "#ed7953"
             ],
             [
              0.7777777777777778,
              "#fb9f3a"
             ],
             [
              0.8888888888888888,
              "#fdca26"
             ],
             [
              1,
              "#f0f921"
             ]
            ],
            "type": "heatmapgl"
           }
          ],
          "histogram": [
           {
            "marker": {
             "pattern": {
              "fillmode": "overlay",
              "size": 10,
              "solidity": 0.2
             }
            },
            "type": "histogram"
           }
          ],
          "histogram2d": [
           {
            "colorbar": {
             "outlinewidth": 0,
             "ticks": ""
            },
            "colorscale": [
             [
              0,
              "#0d0887"
             ],
             [
              0.1111111111111111,
              "#46039f"
             ],
             [
              0.2222222222222222,
              "#7201a8"
             ],
             [
              0.3333333333333333,
              "#9c179e"
             ],
             [
              0.4444444444444444,
              "#bd3786"
             ],
             [
              0.5555555555555556,
              "#d8576b"
             ],
             [
              0.6666666666666666,
              "#ed7953"
             ],
             [
              0.7777777777777778,
              "#fb9f3a"
             ],
             [
              0.8888888888888888,
              "#fdca26"
             ],
             [
              1,
              "#f0f921"
             ]
            ],
            "type": "histogram2d"
           }
          ],
          "histogram2dcontour": [
           {
            "colorbar": {
             "outlinewidth": 0,
             "ticks": ""
            },
            "colorscale": [
             [
              0,
              "#0d0887"
             ],
             [
              0.1111111111111111,
              "#46039f"
             ],
             [
              0.2222222222222222,
              "#7201a8"
             ],
             [
              0.3333333333333333,
              "#9c179e"
             ],
             [
              0.4444444444444444,
              "#bd3786"
             ],
             [
              0.5555555555555556,
              "#d8576b"
             ],
             [
              0.6666666666666666,
              "#ed7953"
             ],
             [
              0.7777777777777778,
              "#fb9f3a"
             ],
             [
              0.8888888888888888,
              "#fdca26"
             ],
             [
              1,
              "#f0f921"
             ]
            ],
            "type": "histogram2dcontour"
           }
          ],
          "mesh3d": [
           {
            "colorbar": {
             "outlinewidth": 0,
             "ticks": ""
            },
            "type": "mesh3d"
           }
          ],
          "parcoords": [
           {
            "line": {
             "colorbar": {
              "outlinewidth": 0,
              "ticks": ""
             }
            },
            "type": "parcoords"
           }
          ],
          "pie": [
           {
            "automargin": true,
            "type": "pie"
           }
          ],
          "scatter": [
           {
            "fillpattern": {
             "fillmode": "overlay",
             "size": 10,
             "solidity": 0.2
            },
            "type": "scatter"
           }
          ],
          "scatter3d": [
           {
            "line": {
             "colorbar": {
              "outlinewidth": 0,
              "ticks": ""
             }
            },
            "marker": {
             "colorbar": {
              "outlinewidth": 0,
              "ticks": ""
             }
            },
            "type": "scatter3d"
           }
          ],
          "scattercarpet": [
           {
            "marker": {
             "colorbar": {
              "outlinewidth": 0,
              "ticks": ""
             }
            },
            "type": "scattercarpet"
           }
          ],
          "scattergeo": [
           {
            "marker": {
             "colorbar": {
              "outlinewidth": 0,
              "ticks": ""
             }
            },
            "type": "scattergeo"
           }
          ],
          "scattergl": [
           {
            "marker": {
             "colorbar": {
              "outlinewidth": 0,
              "ticks": ""
             }
            },
            "type": "scattergl"
           }
          ],
          "scattermapbox": [
           {
            "marker": {
             "colorbar": {
              "outlinewidth": 0,
              "ticks": ""
             }
            },
            "type": "scattermapbox"
           }
          ],
          "scatterpolar": [
           {
            "marker": {
             "colorbar": {
              "outlinewidth": 0,
              "ticks": ""
             }
            },
            "type": "scatterpolar"
           }
          ],
          "scatterpolargl": [
           {
            "marker": {
             "colorbar": {
              "outlinewidth": 0,
              "ticks": ""
             }
            },
            "type": "scatterpolargl"
           }
          ],
          "scatterternary": [
           {
            "marker": {
             "colorbar": {
              "outlinewidth": 0,
              "ticks": ""
             }
            },
            "type": "scatterternary"
           }
          ],
          "surface": [
           {
            "colorbar": {
             "outlinewidth": 0,
             "ticks": ""
            },
            "colorscale": [
             [
              0,
              "#0d0887"
             ],
             [
              0.1111111111111111,
              "#46039f"
             ],
             [
              0.2222222222222222,
              "#7201a8"
             ],
             [
              0.3333333333333333,
              "#9c179e"
             ],
             [
              0.4444444444444444,
              "#bd3786"
             ],
             [
              0.5555555555555556,
              "#d8576b"
             ],
             [
              0.6666666666666666,
              "#ed7953"
             ],
             [
              0.7777777777777778,
              "#fb9f3a"
             ],
             [
              0.8888888888888888,
              "#fdca26"
             ],
             [
              1,
              "#f0f921"
             ]
            ],
            "type": "surface"
           }
          ],
          "table": [
           {
            "cells": {
             "fill": {
              "color": "#EBF0F8"
             },
             "line": {
              "color": "white"
             }
            },
            "header": {
             "fill": {
              "color": "#C8D4E3"
             },
             "line": {
              "color": "white"
             }
            },
            "type": "table"
           }
          ]
         },
         "layout": {
          "annotationdefaults": {
           "arrowcolor": "#2a3f5f",
           "arrowhead": 0,
           "arrowwidth": 1
          },
          "autotypenumbers": "strict",
          "coloraxis": {
           "colorbar": {
            "outlinewidth": 0,
            "ticks": ""
           }
          },
          "colorscale": {
           "diverging": [
            [
             0,
             "#8e0152"
            ],
            [
             0.1,
             "#c51b7d"
            ],
            [
             0.2,
             "#de77ae"
            ],
            [
             0.3,
             "#f1b6da"
            ],
            [
             0.4,
             "#fde0ef"
            ],
            [
             0.5,
             "#f7f7f7"
            ],
            [
             0.6,
             "#e6f5d0"
            ],
            [
             0.7,
             "#b8e186"
            ],
            [
             0.8,
             "#7fbc41"
            ],
            [
             0.9,
             "#4d9221"
            ],
            [
             1,
             "#276419"
            ]
           ],
           "sequential": [
            [
             0,
             "#0d0887"
            ],
            [
             0.1111111111111111,
             "#46039f"
            ],
            [
             0.2222222222222222,
             "#7201a8"
            ],
            [
             0.3333333333333333,
             "#9c179e"
            ],
            [
             0.4444444444444444,
             "#bd3786"
            ],
            [
             0.5555555555555556,
             "#d8576b"
            ],
            [
             0.6666666666666666,
             "#ed7953"
            ],
            [
             0.7777777777777778,
             "#fb9f3a"
            ],
            [
             0.8888888888888888,
             "#fdca26"
            ],
            [
             1,
             "#f0f921"
            ]
           ],
           "sequentialminus": [
            [
             0,
             "#0d0887"
            ],
            [
             0.1111111111111111,
             "#46039f"
            ],
            [
             0.2222222222222222,
             "#7201a8"
            ],
            [
             0.3333333333333333,
             "#9c179e"
            ],
            [
             0.4444444444444444,
             "#bd3786"
            ],
            [
             0.5555555555555556,
             "#d8576b"
            ],
            [
             0.6666666666666666,
             "#ed7953"
            ],
            [
             0.7777777777777778,
             "#fb9f3a"
            ],
            [
             0.8888888888888888,
             "#fdca26"
            ],
            [
             1,
             "#f0f921"
            ]
           ]
          },
          "colorway": [
           "#636efa",
           "#EF553B",
           "#00cc96",
           "#ab63fa",
           "#FFA15A",
           "#19d3f3",
           "#FF6692",
           "#B6E880",
           "#FF97FF",
           "#FECB52"
          ],
          "font": {
           "color": "#2a3f5f"
          },
          "geo": {
           "bgcolor": "white",
           "lakecolor": "white",
           "landcolor": "#E5ECF6",
           "showlakes": true,
           "showland": true,
           "subunitcolor": "white"
          },
          "hoverlabel": {
           "align": "left"
          },
          "hovermode": "closest",
          "mapbox": {
           "style": "light"
          },
          "paper_bgcolor": "white",
          "plot_bgcolor": "#E5ECF6",
          "polar": {
           "angularaxis": {
            "gridcolor": "white",
            "linecolor": "white",
            "ticks": ""
           },
           "bgcolor": "#E5ECF6",
           "radialaxis": {
            "gridcolor": "white",
            "linecolor": "white",
            "ticks": ""
           }
          },
          "scene": {
           "xaxis": {
            "backgroundcolor": "#E5ECF6",
            "gridcolor": "white",
            "gridwidth": 2,
            "linecolor": "white",
            "showbackground": true,
            "ticks": "",
            "zerolinecolor": "white"
           },
           "yaxis": {
            "backgroundcolor": "#E5ECF6",
            "gridcolor": "white",
            "gridwidth": 2,
            "linecolor": "white",
            "showbackground": true,
            "ticks": "",
            "zerolinecolor": "white"
           },
           "zaxis": {
            "backgroundcolor": "#E5ECF6",
            "gridcolor": "white",
            "gridwidth": 2,
            "linecolor": "white",
            "showbackground": true,
            "ticks": "",
            "zerolinecolor": "white"
           }
          },
          "shapedefaults": {
           "line": {
            "color": "#2a3f5f"
           }
          },
          "ternary": {
           "aaxis": {
            "gridcolor": "white",
            "linecolor": "white",
            "ticks": ""
           },
           "baxis": {
            "gridcolor": "white",
            "linecolor": "white",
            "ticks": ""
           },
           "bgcolor": "#E5ECF6",
           "caxis": {
            "gridcolor": "white",
            "linecolor": "white",
            "ticks": ""
           }
          },
          "title": {
           "x": 0.05
          },
          "xaxis": {
           "automargin": true,
           "gridcolor": "white",
           "linecolor": "white",
           "ticks": "",
           "title": {
            "standoff": 15
           },
           "zerolinecolor": "white",
           "zerolinewidth": 2
          },
          "yaxis": {
           "automargin": true,
           "gridcolor": "white",
           "linecolor": "white",
           "ticks": "",
           "title": {
            "standoff": 15
           },
           "zerolinecolor": "white",
           "zerolinewidth": 2
          }
         }
        },
        "xaxis": {
         "anchor": "y",
         "domain": [
          0,
          1
         ],
         "title": {
          "text": "Year"
         }
        },
        "yaxis": {
         "anchor": "x",
         "domain": [
          0,
          1
         ],
         "title": {
          "text": "Yearly Sales"
         }
        }
       }
      }
     },
     "metadata": {},
     "output_type": "display_data"
    }
   ],
   "source": [
    "yf = pd.read_csv(\"Y_Sales.csv\")\n",
    "\n",
    "yearly = px.bar(\n",
    "    data_frame = yf.reset_index(),\n",
    "    x = \"Date\",\n",
    "    y=\"Weekly_Sales\",\n",
    "    labels={'Weekly_Sales':'Yearly Sales', 'Date':'Year'},\n",
    "    barmode='group'\n",
    ")\n",
    "\n",
    "pio.show(yearly)"
   ]
  },
  {
   "cell_type": "code",
   "execution_count": 9,
   "id": "32961bb6",
   "metadata": {},
   "outputs": [],
   "source": [
    "df[\"Date\"] = pd.to_datetime(df[\"Date\"])"
   ]
  },
  {
   "attachments": {},
   "cell_type": "markdown",
   "id": "1173c89a",
   "metadata": {},
   "source": [
    "# Sales over a period of time"
   ]
  },
  {
   "cell_type": "code",
   "execution_count": 10,
   "id": "53c74d9f",
   "metadata": {},
   "outputs": [],
   "source": [
    "tenstart1 = '2010-01-01' #2010 first quareter start date\n",
    "tenend1 = '2010-03-31' #2010 first quarter end date\n",
    "tenstart2 = '2010-04-01' #2010 second  quareter start date\n",
    "tenend2 = '2010-06-30' #2010 second quarter end date\n",
    "tenstart3 = '2010-07-01' #2010 third quareter start date\n",
    "tenend3 = '2010-09-30' #2010 third quarter end date\n",
    "tenstart4 = '2010-10-01' #2010 fourth  quareter start date\n",
    "tenend4 = '2010-12-31' #2010 fourth quarter end date\n",
    "elestart1 = '2011-01-01' #2011 first quareter start date\n",
    "eleend1 = '2011-03-31' #2011 first quarter end date\n",
    "elestart2 = '2011-04-01' #2011 second  quareter start date\n",
    "eleend2 = '2011-06-30' #2011 second quarter end date\n",
    "elestart3 = '2011-07-01' #2011 third quareter start date\n",
    "eleend3 = '2011-09-30' #2011 third quarter end date\n",
    "elestart4 = '2011-10-01' #2011 fourth  quareter start date\n",
    "eleend4 = '2011-12-31' #2011 fourth quarter end date\n",
    "twestart1 = '2012-01-01' #2012 first quareter start date\n",
    "tweend1 = '2012-03-31' #2012 first quarter end date\n",
    "twestart2 = '2012-04-01' #2012 second  quareter start date\n",
    "tweend2 = '2012-06-30' #2012 second quarter end date\n",
    "twestart3 = '2012-07-01' #2012 third quareter start date\n",
    "tweend3 = '2012-09-30' #2012 third quarter end date\n",
    "twestart4 = '2012-10-01' #2012 fourth  quareter start date\n",
    "tweend4 = '2012-12-31' #2012 fourth quarter end date\n"
   ]
  },
  {
   "attachments": {},
   "cell_type": "markdown",
   "id": "03a1887a",
   "metadata": {},
   "source": [
    "# Quarterly sales with all 45 stores\n",
    "### DONE"
   ]
  },
  {
   "cell_type": "code",
   "execution_count": 11,
   "id": "d67c4ae8",
   "metadata": {},
   "outputs": [],
   "source": [
    "def render(yr, quart):\n",
    "    if yr==2010:\n",
    "        if quart==1:\n",
    "            quarterly = df[(df['Date'] > tenstart1) & (df['Date'] < tenend1)].groupby('Store')['Weekly_Sales'].sum()\n",
    "            max_sales_q = quarterly.idxmax()\n",
    "            max_value_q = quarterly[max_sales_q]\n",
    "            quart_store_highest = f\"Highest sales in a quarter: {max_value_q} (Store: {max_sales_q})\"\n",
    "            return quarterly, quart_store_highest\n",
    "        elif quart==2:\n",
    "            quarterly = df[(df['Date'] > tenstart2) & (df['Date'] < tenend2)].groupby('Store')['Weekly_Sales'].sum()\n",
    "            max_sales_q = quarterly.idxmax()\n",
    "            max_value_q = quarterly[max_sales_q]\n",
    "            quart_store_highest = f\"Highest sales in a quarter: {max_value_q} (Store: {max_sales_q})\"\n",
    "            return quarterly, quart_store_highest\n",
    "        elif quart==3:\n",
    "            quarterly = df[(df['Date'] > tenstart3) & (df['Date'] < tenend3)].groupby('Store')['Weekly_Sales'].sum()\n",
    "            max_sales_q = quarterly.idxmax()\n",
    "            max_value_q = quarterly[max_sales_q]\n",
    "            quart_store_highest = f\"Highest sales in a quarter: {max_value_q} (Store: {max_sales_q})\"\n",
    "            return quarterly, quart_store_highest\n",
    "        elif quart==4:\n",
    "            quarterly = df[(df['Date'] > tenstart4) & (df['Date'] < tenend4)].groupby('Store')['Weekly_Sales'].sum()\n",
    "            max_sales_q = quarterly.idxmax()\n",
    "            max_value_q = quarterly[max_sales_q]\n",
    "            quart_store_highest = f\"Highest sales in a quarter: {max_value_q} (Store: {max_sales_q})\"\n",
    "            return quarterly, quart_store_highest\n",
    "    elif yr==2011:\n",
    "        if quart==1:\n",
    "            quarterly = df[(df['Date'] > elestart1) & (df['Date'] < eleend1)].groupby('Store')['Weekly_Sales'].sum()\n",
    "            max_sales_q = quarterly.idxmax()\n",
    "            max_value_q = quarterly[max_sales_q]\n",
    "            quart_store_highest = f\"Highest sales in a quarter: {max_value_q} (Store: {max_sales_q})\"\n",
    "            return quarterly, quart_store_highest\n",
    "        elif quart==2:\n",
    "            quarterly = df[(df['Date'] > elestart2) & (df['Date'] < eleend2)].groupby('Store')['Weekly_Sales'].sum()\n",
    "            max_sales_q = quarterly.idxmax()\n",
    "            max_value_q = quarterly[max_sales_q]\n",
    "            quart_store_highest = f\"Highest sales in a quarter: {max_value_q} (Store: {max_sales_q})\"\n",
    "            return quarterly, quart_store_highest\n",
    "        elif quart==3:\n",
    "            quarterly = df[(df['Date'] > elestart3) & (df['Date'] < eleend3)].groupby('Store')['Weekly_Sales'].sum()\n",
    "            max_sales_q = quarterly.idxmax()\n",
    "            max_value_q = quarterly[max_sales_q]\n",
    "            quart_store_highest = f\"Highest sales in a quarter: {max_value_q} (Store: {max_sales_q})\"\n",
    "            return quarterly, quart_store_highest\n",
    "        elif quart==4:\n",
    "            quarterly = df[(df['Date'] > elestart4) & (df['Date'] < eleend4)].groupby('Store')['Weekly_Sales'].sum()\n",
    "            max_sales_q = quarterly.idxmax()\n",
    "            max_value_q = quarterly[max_sales_q]\n",
    "            quart_store_highest = f\"Highest sales in a quarter: {max_value_q} (Store: {max_sales_q})\"\n",
    "            return quarterly, quart_store_highest\n",
    "    elif yr==2012:\n",
    "        if quart==1:\n",
    "            quarterly = df[(df['Date'] > twestart1) & (df['Date'] < tweend1)].groupby('Store')['Weekly_Sales'].sum()\n",
    "            max_sales_q = quarterly.idxmax()\n",
    "            max_value_q = quarterly[max_sales_q]\n",
    "            quart_store_highest = f\"Highest sales in a quarter: {max_value_q} (Store: {max_sales_q})\"\n",
    "            return quarterly, quart_store_highest\n",
    "        elif quart==2:\n",
    "            quarterly = df[(df['Date'] > twestart2) & (df['Date'] < tweend2)].groupby('Store')['Weekly_Sales'].sum()\n",
    "            max_sales_q = quarterly.idxmax()\n",
    "            max_value_q = quarterly[max_sales_q]\n",
    "            quart_store_highest = f\"Highest sales in a quarter: {max_value_q} (Store: {max_sales_q})\"\n",
    "            return quarterly, quart_store_highest\n",
    "        elif quart==3:\n",
    "            quarterly = df[(df['Date'] > twestart3) & (df['Date'] < tweend3)].groupby('Store')['Weekly_Sales'].sum()\n",
    "            max_sales_q = quarterly.idxmax()\n",
    "            max_value_q = quarterly[max_sales_q]\n",
    "            quart_store_highest = f\"Highest sales in a quarter: {max_value_q} (Store: {max_sales_q})\"\n",
    "            return quarterly, quart_store_highest\n",
    "        elif quart==4:\n",
    "            quarterly = df[(df['Date'] > twestart4) & (df['Date'] < tweend4)].groupby('Store')['Weekly_Sales'].sum()\n",
    "            max_sales_q = quarterly.idxmax()\n",
    "            max_value_q = quarterly[max_sales_q]\n",
    "            quart_store_highest = f\"Highest sales in a quarter: {max_value_q} (Store: {max_sales_q})\"\n",
    "            return quarterly, quart_store_highest\n",
    "    else:\n",
    "        print(\"Data not available\")"
   ]
  },
  {
   "attachments": {},
   "cell_type": "markdown",
   "id": "1117cbf6",
   "metadata": {},
   "source": [
    "# Quarterly sales per year\n",
    "### DONE"
   ]
  },
  {
   "cell_type": "code",
   "execution_count": 12,
   "id": "b67d5559",
   "metadata": {},
   "outputs": [
    {
     "name": "stdout",
     "output_type": "stream",
     "text": [
      "184362786.96\n"
     ]
    }
   ],
   "source": [
    "quarterly_sales = df.groupby(df['Date'].dt.to_period('Q'))['Weekly_Sales'].sum()\n",
    "max_sales_quart = quarterly_sales.idxmax()\n",
    "max_value_quart = quarterly_sales[max_sales_quart]\n",
    "\n",
    "quarter_highest = f\"Highest sales in a quarter: {max_value_quart} (Quarter: {max_sales_quart})\"\n",
    "\n",
    "last_quarter = list(quarterly_sales.to_dict().values())[11]\n",
    "print(last_quarter)"
   ]
  },
  {
   "attachments": {},
   "cell_type": "markdown",
   "id": "f39f552d",
   "metadata": {},
   "source": [
    "# Overall Sales per Year\n",
    "\n",
    "### DONE"
   ]
  },
  {
   "cell_type": "code",
   "execution_count": 13,
   "id": "8b34d005",
   "metadata": {},
   "outputs": [],
   "source": [
    "yearly = df.groupby(df['Date'].dt.year)['Weekly_Sales'].sum()\n",
    "max_sales_year = yearly.idxmax()\n",
    "max_value = yearly[max_sales_year]\n",
    "\n",
    "yearly_highest = f\"Highest sales in a year: {max_value} (Year: {max_sales_year})\""
   ]
  },
  {
   "attachments": {},
   "cell_type": "markdown",
   "id": "6fefc7cf",
   "metadata": {},
   "source": [
    "# Sales for 45 Stores Per Year\n",
    "\n",
    "### DONE\n",
    "needs highest"
   ]
  },
  {
   "cell_type": "code",
   "execution_count": 14,
   "id": "04acb7f5",
   "metadata": {},
   "outputs": [],
   "source": [
    "def store_by_year(year):\n",
    "    sales_by_year = df[df['Date'].dt.year == year]\n",
    "    totsales = sales_by_year.groupby('Store')['Weekly_Sales'].sum()\n",
    "    return totsales"
   ]
  },
  {
   "attachments": {},
   "cell_type": "markdown",
   "id": "48b0c31d",
   "metadata": {},
   "source": [
    "# Monthly Sales\n",
    "\n",
    "### DONE"
   ]
  },
  {
   "cell_type": "code",
   "execution_count": 15,
   "id": "1ca224e8",
   "metadata": {},
   "outputs": [
    {
     "name": "stdout",
     "output_type": "stream",
     "text": [
      "2010\n",
      "Highest sales in a month: 288766124.2 (Month: 12, Year: 2010)\n"
     ]
    }
   ],
   "source": [
    "Monthly = df.groupby(df['Date'].dt.to_period('M'))['Weekly_Sales'].sum()\n",
    "# print(Monthly)#.to_dict())\n",
    "max_sales_month = Monthly.idxmax()\n",
    "print(max_sales_month.year)\n",
    "max_sales_value = Monthly[max_sales_month]\n",
    "\n",
    "monthly_highest = f\"Highest sales in a month: {max_sales_value} (Month: {max_sales_month.month}, Year: {max_sales_month.year})\"\n",
    "print(monthly_highest)"
   ]
  },
  {
   "attachments": {},
   "cell_type": "markdown",
   "id": "3928ec99",
   "metadata": {},
   "source": [
    "# Monthly Sales with all 45 Stores\n",
    "\n",
    "### DONE\n",
    "\n",
    "changed to monthly sales with year and month for all 45 stores. "
   ]
  },
  {
   "cell_type": "code",
   "execution_count": 16,
   "id": "ac0a6cf9",
   "metadata": {},
   "outputs": [],
   "source": [
    "def store_by_month(month):\n",
    "    monthly_sales = df.groupby([df['Date'].dt.month, 'Store'])['Weekly_Sales'].sum()\n",
    "    return monthly_sales.loc[month]  "
   ]
  },
  {
   "attachments": {},
   "cell_type": "markdown",
   "id": "a5bed1e8",
   "metadata": {},
   "source": [
    "# Sales During Holidays\n",
    "### DONE"
   ]
  },
  {
   "cell_type": "code",
   "execution_count": 17,
   "id": "61c227a3",
   "metadata": {},
   "outputs": [],
   "source": [
    "Superbowl = pd.to_datetime(['12-2-2010', '11-2-2011', '10-2-2012'], dayfirst=True)\n",
    "Labourday = pd.to_datetime(['10-9-2010', '9-9-2011', '7-9-2012'], dayfirst=True)\n",
    "Thanksgiving = pd.to_datetime(['26-11-2010', '25-11-2011', '23-11-2012'], dayfirst=True)\n",
    "Christmas = pd.to_datetime(['31-12-2010', '30-12-2011', '28-12-2012'], dayfirst=True)\n",
    "\n",
    "\n",
    "df['Event'] = None\n",
    "df.loc[df['Date'].isin(Superbowl), 'Event'] = 'Superbowl'\n",
    "df.loc[df['Date'].isin(Labourday), 'Event'] = 'Labourday'\n",
    "df.loc[df['Date'].isin(Thanksgiving), 'Event'] = 'Thanksgiving'\n",
    "df.loc[df['Date'].isin(Christmas), 'Event'] = 'Christmas'\n",
    "event_sales = df.groupby([df['Date'].dt.year, 'Event'])['Weekly_Sales'].sum()"
   ]
  },
  {
   "attachments": {},
   "cell_type": "markdown",
   "id": "45299fff",
   "metadata": {},
   "source": [
    "# Total sales for a particular year and a particular month\n",
    "### DONE"
   ]
  },
  {
   "cell_type": "code",
   "execution_count": 18,
   "id": "d0c08249",
   "metadata": {},
   "outputs": [],
   "source": [
    "def total_sales(year, month):\n",
    "    sales_year_month = df[(df['Date'].dt.year == year) & (df['Date'].dt.month == month)]\n",
    "    total_year_month = sales_year_month['Weekly_Sales'].sum()\n",
    "    return total_year_month"
   ]
  },
  {
   "attachments": {},
   "cell_type": "markdown",
   "id": "df1929b0",
   "metadata": {},
   "source": [
    "# Weekly Sales and Fuel Price\n",
    "needs highest"
   ]
  },
  {
   "cell_type": "code",
   "execution_count": 19,
   "id": "965e7a91",
   "metadata": {},
   "outputs": [
    {
     "name": "stdout",
     "output_type": "stream",
     "text": [
      "Minimum Sales:\n",
      "Fuel Price: 2.548\n",
      "Store: 31\n",
      "Sales Value: 0.01\n"
     ]
    }
   ],
   "source": [
    "max_sales_fuel = df.groupby('Fuel_Price')['Weekly_Sales'].max()\n",
    "max_price = max_sales_fuel.max()\n",
    "highest_price = max_sales_fuel.idxmax()\n",
    "store_num = df.loc[df[df['Fuel_Price'] == highest_price]['Weekly_Sales'].idxmax(), 'Store']\n",
    "\n",
    "max_sales = f\"Maximum Sales: \\n Fuel Price: {highest_price} \\n Store:{store_num} \\n Sales Value:{max_price}\"\n",
    "\n",
    "\n",
    "min_sales_fuel = df.groupby('Fuel_Price')['Weekly_Sales'].min()\n",
    "min_price = min_sales_fuel.min()\n",
    "lowest_price = min_sales_fuel.idxmin()\n",
    "lowest_store_num = df.loc[df[df['Fuel_Price'] == lowest_price]['Weekly_Sales'].idxmin(), 'Store']\n",
    "\n",
    "print(\"Minimum Sales:\")\n",
    "print(\"Fuel Price:\", lowest_price)\n",
    "print(\"Store:\", lowest_store_num)\n",
    "print(\"Sales Value:\", min_price)"
   ]
  },
  {
   "attachments": {},
   "cell_type": "markdown",
   "id": "0679fb43",
   "metadata": {},
   "source": [
    "# Unemployment and Weekly Sales\n",
    "needs highest"
   ]
  },
  {
   "cell_type": "code",
   "execution_count": 20,
   "id": "085ad138",
   "metadata": {},
   "outputs": [
    {
     "name": "stdout",
     "output_type": "stream",
     "text": [
      "Maximum Sales:\n",
      "Unemployment Rate: 9.003\n",
      "Store: 10\n",
      "Sales Value: 693099.36\n",
      "\n",
      "Minimum Sales:\n",
      "Unemployment Rate: 5.124\n",
      "Store: 8\n",
      "Sales Value: 0.01\n"
     ]
    }
   ],
   "source": [
    "max_sales_unemp = df.groupby('Unemployment')['Weekly_Sales'].max()\n",
    "max_price_unemp = max_sales_unemp.max()\n",
    "highest_price_unemp = max_sales_unemp.idxmax()\n",
    "store_number_unemp = df.loc[df[df['Unemployment'] == highest_price_unemp]['Weekly_Sales'].idxmax(), 'Store']\n",
    "\n",
    "print(\"Maximum Sales:\")\n",
    "print(\"Unemployment Rate:\", highest_price_unemp)\n",
    "print(\"Store:\", store_number_unemp)\n",
    "print(\"Sales Value:\", max_price_unemp)\n",
    "print()\n",
    "\n",
    "min_sales_unemp = df.groupby('Unemployment')['Weekly_Sales'].min()\n",
    "min_price_unemp = min_sales_unemp.min()\n",
    "lowest_price_unemp = min_sales_unemp.idxmin()\n",
    "lowest_store_unemp= df.loc[df[df['Unemployment'] == lowest_price_unemp]['Weekly_Sales'].idxmin(), 'Store']\n",
    "\n",
    "print(\"Minimum Sales:\")\n",
    "print(\"Unemployment Rate:\", lowest_price_unemp)\n",
    "print(\"Store:\", lowest_store_unemp)\n",
    "print(\"Sales Value:\", min_price_unemp)"
   ]
  },
  {
   "attachments": {},
   "cell_type": "markdown",
   "id": "4dabc691",
   "metadata": {},
   "source": [
    "# Sales of all 45 stores for user specified year and month\n",
    "### DONE"
   ]
  },
  {
   "cell_type": "code",
   "execution_count": 21,
   "id": "3db82f80",
   "metadata": {},
   "outputs": [],
   "source": [
    "def all_stores(year, month):\n",
    "    date_conversion = pd.to_datetime(f\"{year}-{month:02d}\", format=\"%Y-%m\")\n",
    "\n",
    "    sales_demo = df[(df['Date'].dt.year == date_conversion.year) & (df['Date'].dt.month == date_conversion.month)]\n",
    "    store_demo = sales_demo.groupby('Store')['Weekly_Sales'].sum()\n",
    "    max_store = store_demo.idxmax()\n",
    "    max_value = store_demo[max_store]\n",
    "    store_highest = f\"Store with the highest sales: {max_store} (Month: {max_value})\"\n",
    "    return store_demo, store_highest"
   ]
  },
  {
   "attachments": {},
   "cell_type": "markdown",
   "id": "9880dbfb",
   "metadata": {},
   "source": [
    "# Fuel Price and Total Sales for a given year\n",
    "### DONE"
   ]
  },
  {
   "cell_type": "code",
   "execution_count": 22,
   "id": "4dd9af0d",
   "metadata": {},
   "outputs": [],
   "source": [
    "def fuel_sales(year):\n",
    "    fuel_year_data = df[df['Date'].dt.year == year]\n",
    "    sales_fuel = fuel_year_data.groupby('Fuel_Price')['Weekly_Sales'].sum()\n",
    "\n",
    "    max_price_fp = sales_fuel.max()\n",
    "    highest_price_fp = sales_fuel.idxmax()\n",
    "    store_number_fuel = df.loc[df[df['Fuel_Price'] == highest_price_fp]['Weekly_Sales'].idxmax(), 'Store']\n",
    "    max_sales = f\"Maximum Sales at Store {store_number_fuel} at Fuel price {highest_price_fp} had a Sales value of {max_price_fp}\"\n",
    "    return sales_fuel, max_sales\n",
    "\n",
    "# min_price_fp = sales_fuel.min()\n",
    "# lowest_price_fp = sales_fuel.idxmin()\n",
    "# low_store_number_fuel = df.loc[df[df['Fuel_Price'] == lowest_price_fp]['Weekly_Sales'].idxmin(), 'Store']\n",
    "\n",
    "# print()\n",
    "# print(\"Minimum Sales:\")\n",
    "# print(\"Fuel Price:\", lowest_price_fp)\n",
    "# print(\"Store:\", low_store_number_fuel)\n",
    "# print(\"Sales Value:\", min_price_fp)"
   ]
  },
  {
   "attachments": {},
   "cell_type": "markdown",
   "id": "7b273511",
   "metadata": {},
   "source": [
    "# Temperature and Weekly Sales\n",
    "### DONE"
   ]
  },
  {
   "cell_type": "code",
   "execution_count": 23,
   "id": "b663406f",
   "metadata": {},
   "outputs": [],
   "source": [
    "def temp_sales(year):\n",
    "    year_data_temp = df[df['Date'].dt.year == year]\n",
    "    sales_temperature = year_data_temp.groupby('Temperature')['Weekly_Sales'].sum()\n",
    "    \n",
    "    max_price_temperature = sales_temperature.max()\n",
    "    highest_price_temperature = sales_temperature.idxmax()\n",
    "    store_number_temperature = df.loc[df[df['Temperature'] == highest_price_temperature]['Weekly_Sales'].idxmax(), 'Store']\n",
    "    max_sales = f\"Maximum Sales: \\n Temperature: {highest_price_temperature} \\n Store:{store_number_temperature} \\n Sales Value:{max_price_temperature}\"\n",
    "    \n",
    "    return sales_temperature, max_sales\n",
    "\n",
    "\n",
    "# min_price_temperature = sales_temperature.min()\n",
    "# lowest_price_temperature = sales_temperature.idxmin()\n",
    "# low_store_number_temperature = df.loc[df[df['Temperature'] == lowest_price_temperature]['Weekly_Sales'].idxmin(), 'Store']\n",
    "\n",
    "# print()\n",
    "# print(\"Minimum Sales:\")\n",
    "# print(\"Temperature:\", lowest_price_temperature)\n",
    "# print(\"Store:\", low_store_number_temperature)\n",
    "# print(\"Sales Value:\", min_price_temperature)"
   ]
  },
  {
   "attachments": {},
   "cell_type": "markdown",
   "id": "2c7a95b4",
   "metadata": {},
   "source": [
    "# Unemployment and Total Sales per year "
   ]
  },
  {
   "cell_type": "code",
   "execution_count": 24,
   "id": "519d33e0",
   "metadata": {},
   "outputs": [],
   "source": [
    "def unemploy_sales(year):\n",
    "    year_data = df[df['Date'].dt.year == year]\n",
    "    sales_unemp = year_data.groupby('Unemployment')['Weekly_Sales'].sum()\n",
    "    \n",
    "    max_price_unemploy = sales_unemp.max()\n",
    "    highest_price_unemploy = sales_unemp.idxmax()\n",
    "    store_number_unemploy = df.loc[df[df['Unemployment'] == highest_price_unemploy]['Weekly_Sales'].idxmax(), 'Store']\n",
    "    max_sales = f\"Maximum Sales: \\n Unemployment Rate: {highest_price_unemploy} \\n Store:{store_number_unemploy} \\n Sales Value:{max_price_unemploy}\"\n",
    "    \n",
    "    return sales_unemp, max_sales\n",
    "\n",
    "\n",
    "# min_price_unemploy = sales_unemp.min()\n",
    "# lowest_price_unemploy = sales_unemp.idxmin()\n",
    "# low_store_number_unemploy = df.loc[df[df['Unemployment'] == lowest_price_unemploy]['Weekly_Sales'].idxmin(), 'Store']\n",
    "\n",
    "# print()\n",
    "# print(\"Minimum Sales:\")\n",
    "# print(\"Unemployment Rate:\", lowest_price_unemploy)\n",
    "# print(\"Store:\", low_store_number_unemploy)\n",
    "# print(\"Sales Value:\", min_price_unemploy)"
   ]
  },
  {
   "attachments": {},
   "cell_type": "markdown",
   "id": "0ab0af2b",
   "metadata": {},
   "source": [
    "# Gross Revenue "
   ]
  },
  {
   "cell_type": "code",
   "execution_count": 25,
   "id": "8c5f8299",
   "metadata": {},
   "outputs": [
    {
     "name": "stdout",
     "output_type": "stream",
     "text": [
      "6737307148.669999\n"
     ]
    }
   ],
   "source": [
    "three_year_sales = df.groupby(df['Date'].dt.year)['Weekly_Sales'].sum()\n",
    "gross_revenue = three_year_sales.sum()\n",
    "print(gross_revenue)"
   ]
  },
  {
   "cell_type": "code",
   "execution_count": null,
   "id": "4b0708c5",
   "metadata": {},
   "outputs": [],
   "source": []
  },
  {
   "attachments": {},
   "cell_type": "markdown",
   "id": "6d3391c7",
   "metadata": {},
   "source": [
    "# Dash app"
   ]
  },
  {
   "cell_type": "code",
   "execution_count": 26,
   "id": "4216e540",
   "metadata": {},
   "outputs": [
    {
     "name": "stderr",
     "output_type": "stream",
     "text": [
      "c:\\Users\\revan\\anaconda3\\Lib\\site-packages\\_plotly_utils\\basevalidators.py:106: FutureWarning:\n",
      "\n",
      "The behavior of DatetimeProperties.to_pydatetime is deprecated, in a future version this will return a Series containing python datetime objects instead of an ndarray. To retain the old behavior, call `np.array` on the result\n",
      "\n",
      "c:\\Users\\revan\\anaconda3\\Lib\\site-packages\\_plotly_utils\\basevalidators.py:106: FutureWarning:\n",
      "\n",
      "The behavior of DatetimeProperties.to_pydatetime is deprecated, in a future version this will return a Series containing python datetime objects instead of an ndarray. To retain the old behavior, call `np.array` on the result\n",
      "\n"
     ]
    },
    {
     "data": {
      "text/html": [
       "\n",
       "        <iframe\n",
       "            width=\"100%\"\n",
       "            height=\"650\"\n",
       "            src=\"http://127.0.0.1:8050/\"\n",
       "            frameborder=\"0\"\n",
       "            allowfullscreen\n",
       "            \n",
       "        ></iframe>\n",
       "        "
      ],
      "text/plain": [
       "<IPython.lib.display.IFrame at 0x15193597b50>"
      ]
     },
     "metadata": {},
     "output_type": "display_data"
    }
   ],
   "source": [
    "app = Dash(__name__, use_pages=True, external_stylesheets=[dbc.themes.FLATLY], suppress_callback_exceptions=True)\n",
    "\n",
    "CONTENT_STYLE = {\n",
    "    \"margin-left\": \"18rem\",\n",
    "    \"margin-right\": \"2rem\",\n",
    "    \"padding\": \"2rem 1rem\"\n",
    "}\n",
    "\n",
    "SIDEBAR_STYLE = {\n",
    "    \"position\": \"fixed\",\n",
    "    \"top\": 0,\n",
    "    \"left\": 0,\n",
    "    \"bottom\": 0,\n",
    "    \"width\": \"10rem\",\n",
    "    \"padding\": \"2rem 1rem\",\n",
    "    \"background-color\": \"#f8f9fa\",\n",
    "}\n",
    "\n",
    "x_q = quarterly_sales.index.strftime(\"%Y\")\n",
    "x_m = Monthly.index.strftime(\"%Y-%m\")\n",
    "x_yr = Monthly.index.strftime(\"%Y\")\n",
    "\n",
    "bar_quarterly = px.bar(\n",
    "    data_frame = quarterly_sales.reset_index(),\n",
    "    x = x_q,\n",
    "    y = \"Weekly_Sales\",\n",
    "    color = quarterly_sales.index.strftime(\"%m\"),\n",
    "    labels = {\"Weekly_Sales\":'Quarterly Sales', 'x': 'Year', 'color':'Quarter'},\n",
    "    barmode = 'group',\n",
    ")\n",
    "\n",
    "bar_yearly = px.bar(\n",
    "    data_frame = yearly.reset_index(),\n",
    "    x = \"Date\",\n",
    "    y = \"Weekly_Sales\",\n",
    "    labels = {\"Weekly_Sales\":'Quarterly Sales', 'Date': 'Year'},\n",
    "    barmode = 'relative',\n",
    ")\n",
    "\n",
    "bar_monthly = px.bar(\n",
    "    data_frame = Monthly.reset_index(),\n",
    "    x = x_m,\n",
    "    y = \"Weekly_Sales\",\n",
    "    color = x_yr,\n",
    "    labels ={'x':'Month', 'Weekly_Sales':'Monthly Sales', 'color':'Year'},\n",
    "    barmode = 'relative',\n",
    ")\n",
    "\n",
    "bar_holidays = px.bar(\n",
    "    data_frame = event_sales.reset_index(),\n",
    "    x = \"Date\",\n",
    "    y = \"Weekly_Sales\",\n",
    "    color = \"Event\",\n",
    "    labels = {'Weekly_Sales': 'Sales', 'Date':'Year'},\n",
    "    barmode = 'group',\n",
    ")\n",
    "\n",
    "scatter_fuel = px.histogram(\n",
    "    data_frame = df.reset_index(),\n",
    "    x=df['Fuel_Price'], \n",
    "    y=df['Weekly_Sales'],\n",
    "    labels = {'x':'Fuel Price', 'y':'Weekly Sales'}\n",
    ")\n",
    "\n",
    "scatter_unemploy = px.histogram(\n",
    "    data_frame = df.reset_index(),\n",
    "    x=df['Unemployment'], \n",
    "    y=df['Weekly_Sales'],\n",
    "    labels = {'x':'Unemployment Rate', 'y':'Weekly Sales'}\n",
    ")\n",
    "\n",
    "card_content = [\n",
    "    dbc.CardBody(\n",
    "        [\n",
    "            html.H3('Total Sales'),\n",
    "            html.H4(id = 'tot_sales_figure', className=\"card-title\", children =[]),\n",
    "        ],\n",
    "        className=\"mb-3\",\n",
    "    ),\n",
    "]\n",
    "\n",
    "# empty_1 = [\n",
    "#     dbc.CardBody(\n",
    "#         [\n",
    "            \n",
    "#         ],\n",
    "#         className=\"mb-3\",\n",
    "#     ),\n",
    "# ]\n",
    "# empty_2 = [\n",
    "#     dbc.CardBody(\n",
    "#         [\n",
    "          \n",
    "#         ],\n",
    "#         className=\"mb-3\",\n",
    "#     ),\n",
    "# ]\n",
    "\n",
    "row_1 = dbc.Card(card_content, style = {'textAlign':'center'}, class_name=\"card text-white bg-success mb-3\") \n",
    "        # dbc.Col(dbc.Card(empty_1, color=\"light\", outline=True)),\n",
    "        # dbc.Col(dbc.Card(empty_2, color=\"light\", outline=True))\n",
    "\n",
    "insight_layout = html.Div(id = \"insight-content\",\n",
    "    children = [\n",
    "        html.H1('Data Insights', style = {'textAlign':'center'}),\n",
    "        html.Div([\n",
    "            dcc.Tabs(id = \"tabs\", value = 'month_sales', children = [\n",
    "            \n",
    "            dcc.Tab(value = 'month_sales', label = \"Monthly Sales\", children = [html.H3('Total Sales Per Month', style = {'textAlign':'center','padding':'2%'}),\n",
    "                # html.H4(monthly_highest, style = {'textAlign':'center'}),\n",
    "                dcc.RadioItems( \n",
    "                    options = [\n",
    "                    {\"label\":\"2010\", \"value\":2010},\n",
    "                    {\"label\":\"2011\", \"value\":2011},\n",
    "                    {\"label\":\"2012\", \"value\":2012},\n",
    "                ], value = 2010, id = 'tot_sales_year', inline = True),\n",
    "                dcc.Dropdown (id = \"tot_sales_month\", \n",
    "                             options = [\n",
    "                                 {\"label\":\"January\", \"value\":1},\n",
    "                                 {\"label\":\"February\", \"value\":2},\n",
    "                                 {\"label\":\"March\", \"value\":3},\n",
    "                                 {\"label\":\"April\", \"value\":4},\n",
    "                                 {\"label\":\"May\", \"value\":5},\n",
    "                                 {\"label\":\"June\", \"value\":6},\n",
    "                                 {\"label\":\"July\", \"value\":7},\n",
    "                                 {\"label\":\"August\", \"value\":8},\n",
    "                                 {\"label\":\"September\", \"value\":9},\n",
    "                                 {\"label\":\"October\", \"value\":10},\n",
    "                                 {\"label\":\"November\", \"value\":11},\n",
    "                                 {\"label\":\"December\", \"value\":12},\n",
    "                             ], multi = False, value = 2, style = {'width': \"40%\"}),\n",
    "                html.Div(row_1, style={'padding-top':'1rem', 'padding-bottom':'2rem'}),\n",
    "                html.H3('Monthly Sales', style={'textAlign':'center'}),\n",
    "                dcc.Graph(figure = bar_monthly, id = 'bar-5'),\n",
    "                html.H3('Monthly Sales For All Stores', style = {'textAlign':'center'}),\n",
    "                dcc.RadioItems( \n",
    "                    options = [\n",
    "                    {\"label\":\"2010\", \"value\":2010},\n",
    "                    {\"label\":\"2011\", \"value\":2011},\n",
    "                    {\"label\":\"2012\", \"value\":2012},\n",
    "                ], value = 2010, id = 'monthly_year', inline = True),\n",
    "                dcc.Dropdown (id = \"slct_monthly_year\", \n",
    "                             options = [\n",
    "                                 {\"label\":\"January\", \"value\":1},\n",
    "                                 {\"label\":\"February\", \"value\":2},\n",
    "                                 {\"label\":\"March\", \"value\":3},\n",
    "                                 {\"label\":\"April\", \"value\":4},\n",
    "                                 {\"label\":\"May\", \"value\":5},\n",
    "                                 {\"label\":\"June\", \"value\":6},\n",
    "                                 {\"label\":\"July\", \"value\":7},\n",
    "                                 {\"label\":\"August\", \"value\":8},\n",
    "                                 {\"label\":\"September\", \"value\":9},\n",
    "                                 {\"label\":\"October\", \"value\":10},\n",
    "                                 {\"label\":\"November\", \"value\":11},\n",
    "                                 {\"label\":\"December\", \"value\":12},\n",
    "                             ], multi = False, value = 2, style = {'width': \"40%\"}),\n",
    "                html.H4(id = 'monthly_sales', children =[]),\n",
    "                dcc.Graph(id = 'monthly_graph', figure ={}),\n",
    "                \n",
    "            ]),\n",
    "                \n",
    "            dcc.Tab(label = 'Quarterly Sales', children = [html.H3('Per Year', style = {'textAlign':'center','padding':'2%'}),\n",
    "                # html.H4(quarter_highest, style = {'textAlign':'center'}),\n",
    "                dcc.Graph(figure = bar_quarterly, id = 'bar-1'),\n",
    "                html.H3('Per Year For All Stores', style = {'textAlign': 'center'}),  \n",
    "                dcc.RadioItems(\n",
    "                     options = [\n",
    "                      {\"label\": \"Quarter 1\", \"value\":1},\n",
    "                      {\"label\": \"Quarter 2\", \"value\":2},\n",
    "                      {\"label\": \"Quarter 3\", \"value\":3},\n",
    "                      {\"label\": \"Quarter 4\", \"value\":4},\n",
    "                  ],value = 1, id = 'quarter_radio_item', inline=True),\n",
    "                dcc.Dropdown (id = \"slct_year\",\n",
    "                  options = [\n",
    "                      {\"label\": \"2010\", \"value\":2010},\n",
    "                      {\"label\": \"2011\", \"value\":2011},\n",
    "                      {\"label\": \"2012\", \"value\":2012},\n",
    "                  ], multi = False, value = 2012, style = {'width': \"40%\"}),\n",
    "                 html.H4(id ='quarterly_highest', children = []),\n",
    "                 dcc.Graph(id = 'quarterly_graph', figure={})\n",
    "            ]),\n",
    "\n",
    "            dcc.Tab(label = 'Yearly Sales', children = [html.H3('Overall Sales', style = {'textAlign':'center','padding':'2%'}),\n",
    "                # html.H4(yearly_highest, style = {'textAlign':'center'}),\n",
    "                dcc.Graph(figure = bar_yearly, id = 'bar-3'),\n",
    "                html.H3('Overall Sales For All Stores', style = {'textAlign':'center'}),\n",
    "                dcc.RadioItems( \n",
    "                    options = [\n",
    "                    {\"label\":\"2010\", \"value\":2010},\n",
    "                    {\"label\":\"2011\", \"value\":2011},\n",
    "                    {\"label\":\"2012\", \"value\":2012},\n",
    "                ], value = 2010, id = 'year_radio_item', inline = True),\n",
    "                dcc.Graph(id = 'yearly_graph', figure={})\n",
    "            ]),\n",
    "\n",
    "            dcc.Tab(label = \"Relational Data\", children = [\n",
    "                    dcc.Dropdown(['Holidays', 'Fuel Prices', 'Temperatures', 'Unemployment'], 'Holidays', id='dropdown', placeholder=\"Select a group\", style = {'padding-top':'1%','padding':'2%'}),\n",
    "                    html.Div(id= 'drop_out', children=[]),\n",
    "            ])\n",
    "        ]), html.Div(id='tabs-out')])\n",
    "    ])\n",
    "@app.callback(\n",
    "    Output('monthly_sales', 'children'),\n",
    "    Output('monthly_graph', 'figure'),\n",
    "    Output('tot_sales_figure', 'children'),\n",
    "    Output('quarterly_highest', 'children'),\n",
    "    Output('quarterly_graph', 'figure'),\n",
    "    Output('yearly_graph', 'figure'),\n",
    "    \n",
    "    \n",
    "    Input('monthly_year', 'value'), \n",
    "    Input('slct_monthly_year', 'value'),\n",
    "    Input('tot_sales_year', 'value'),\n",
    "    Input('tot_sales_month', 'value'),\n",
    "    Input('slct_year', 'value'),\n",
    "    Input('quarter_radio_item', 'value'),\n",
    "    Input('year_radio_item', 'value'),\n",
    "    )\n",
    "\n",
    "def render_data(monthly_year, slct_monthly_year, tot_sales_year, tot_sales_month, slct_year, quarter_radio, year_radio):\n",
    "    data, highest_quart = render(slct_year, quarter_radio)\n",
    "    data2 = store_by_year(year_radio)\n",
    "    data3, highest_monthly_store = all_stores(monthly_year, slct_monthly_year)\n",
    "    data4 = total_sales(tot_sales_year, tot_sales_month)\n",
    "    \n",
    "    bar_quart = px.bar(\n",
    "            data_frame = data.reset_index(),\n",
    "            x = \"Store\",\n",
    "            y = \"Weekly_Sales\",\n",
    "            color = \"Weekly_Sales\",\n",
    "            labels ={'Weekly_Sales':'Quarterly Sales', 'color':'Quarterly Sales'},\n",
    "            barmode = 'relative',\n",
    "        )\n",
    "    \n",
    "    bar_year = px.bar(\n",
    "            data_frame = data2.reset_index(),\n",
    "            x = \"Store\",\n",
    "            y = \"Weekly_Sales\",\n",
    "            color = \"Weekly_Sales\",\n",
    "            labels ={'Weekly_Sales':'Yearly Sales', 'color':'Yearly Sales'},\n",
    "            barmode = 'relative',\n",
    "            \n",
    "        )\n",
    "    \n",
    "    bar_month= px.bar(\n",
    "        data_frame = data3.reset_index(),\n",
    "        x = \"Store\",\n",
    "        y = \"Weekly_Sales\",\n",
    "        color = \"Weekly_Sales\",\n",
    "        labels = {'Weekly_Sales':'Monthly Sales', 'color':'Monthly Sales'},\n",
    "        barmode = 'relative',\n",
    "        \n",
    "    )\n",
    "    \n",
    "    \n",
    "    return highest_monthly_store, bar_month, data4, highest_quart, bar_quart, bar_year \n",
    "\n",
    "\n",
    "holiday_layout = html.Div(children = [\n",
    "    html.H3('Sales During Holidays', style = {'textAlign': 'center'}),\n",
    "    dcc.Graph(figure = bar_holidays, id = 'bar-7'),])\n",
    "\n",
    "fuel_prices_layout = html.Div(children = [\n",
    "    html.H3('Fuel Prices vs Weekly Sales', style = {'textAlign':'center'}),\n",
    "    dcc.Graph(figure = scatter_fuel, id = 'scatter-1'),\n",
    "    html.H3('Fuel Prices vs Total Sales', style = {'textAlign':'center'}),\n",
    "    dcc.RadioItems( \n",
    "        options = [\n",
    "        {\"label\":\"2010\", \"value\":2010},\n",
    "        {\"label\":\"2011\", \"value\":2011},\n",
    "        {\"label\":\"2012\", \"value\":2012},\n",
    "    ], value = 2010, id = 'fuel_year', inline = True),\n",
    "    html.H4(id = 'fuel_text', children = []),\n",
    "    dcc.Graph(id = 'fuel_scatter', figure = {}),\n",
    "])\n",
    "\n",
    "@callback(\n",
    "    Output('fuel_scatter', 'figure'),\n",
    "    Output('fuel_text', 'children'),\n",
    "\n",
    "    Input('fuel_year', 'value'),\n",
    ")\n",
    "\n",
    "def render_fuel(fuel_year):\n",
    "    data5, highest_value = fuel_sales(fuel_year)\n",
    "\n",
    "    scatterpl_fuel = px.scatter(\n",
    "        data_frame = data5.reset_index(),\n",
    "        x = \"Fuel_Price\",\n",
    "        y = \"Weekly_Sales\",\n",
    "        labels = {'Fuel_Price':'Fuel Price', 'Weekly_Sales':'Yearly Sales'}\n",
    "    )\n",
    "    return scatterpl_fuel, highest_value\n",
    "\n",
    "temperatures_layout = html.Div(children = [\n",
    "    html.H3('Temperature vs Weekly Sales', style = {'textAlign':'center'}),\n",
    "    dcc.RadioItems( \n",
    "        options = [\n",
    "        {\"label\":\"2010\", \"value\":2010},\n",
    "        {\"label\":\"2011\", \"value\":2011},\n",
    "        {\"label\":\"2012\", \"value\":2012},\n",
    "    ], value = 2010, id = 'temp_year', inline = True),      \n",
    "    html.H4(id = 'temp_text', children = []),\n",
    "    dcc.Graph(id = 'temp_scatter', figure = {}),\n",
    "])\n",
    "\n",
    "@callback(\n",
    "    Output('temp_scatter', 'figure'),\n",
    "    Output('temp_text', 'children'),\n",
    "    \n",
    "    Input('temp_year', 'value'),\n",
    ")\n",
    "def render_temp(temp_year):\n",
    "    data6, highest_temp = temp_sales(temp_year)\n",
    "    scatterpl_temp = px.scatter(\n",
    "        data_frame = data6.reset_index(),\n",
    "        x = \"Temperature\",\n",
    "        y = \"Weekly_Sales\",\n",
    "        labels ={'Weekly_Sales':'Yearly Sales'}\n",
    "    )\n",
    "\n",
    "    return scatterpl_temp, highest_temp,\n",
    "\n",
    "unemployment_layout = html.Div(children = [\n",
    "    html.H3('Unemployment vs Weekly Sales', style = {'textAlign':'center'}),\n",
    "    dcc.Graph(figure = scatter_unemploy, id = 'scatter-3'),\n",
    "    html.H3('Unemployment vs Total Sales', style = {'textAlign':'center'}),\n",
    "    dcc.RadioItems( \n",
    "        options = [\n",
    "        {\"label\":\"2010\", \"value\":2010},\n",
    "        {\"label\":\"2011\", \"value\":2011},\n",
    "        {\"label\":\"2012\", \"value\":2012},\n",
    "    ], value = 2010, id = 'unemploy_year', inline = True),      \n",
    "    html.H4(id = 'unemploy_text', children = []),\n",
    "    dcc.Graph(id = 'unemploy_scatter', figure = {}),\n",
    "])\n",
    "\n",
    "@callback (\n",
    "    Output('unemploy_scatter', 'figure'),\n",
    "    Output('unemploy_text', 'children'),\n",
    "    \n",
    "    Input('unemploy_year', 'value')\n",
    ")\n",
    "\n",
    "def render_by_group(unemploy_year):\n",
    "    data7, highest_unemploy = unemploy_sales(unemploy_year)\n",
    "\n",
    "    scatterpl_unemploy = px.scatter(\n",
    "        data_frame = data7.reset_index(),\n",
    "        x = \"Unemployment\",\n",
    "        y = \"Weekly_Sales\",\n",
    "        labels ={'Weekly_Sales':'Yearly Sales', 'Unemployment':'Unemployment Rate'}\n",
    "    )\n",
    "    \n",
    "    return scatterpl_unemploy, highest_unemploy\n",
    "\n",
    "\n",
    "@callback(\n",
    "    Output('drop_out', 'children'),\n",
    "    Input('dropdown', 'value')\n",
    ")\n",
    "\n",
    "def render_relational(dropdown):\n",
    "    if(dropdown == 'Holidays'):\n",
    "        return holiday_layout\n",
    "    elif(dropdown == 'Fuel Prices'):\n",
    "        return fuel_prices_layout\n",
    "    elif(dropdown == 'Temperatures'):\n",
    "        return temperatures_layout\n",
    "    elif(dropdown == 'Unemployment'):\n",
    "        return unemployment_layout\n",
    "    else:\n",
    "        return \"Select a grouping to display data\"\n",
    "    \n",
    "\n",
    "gross_card = [\n",
    "    # dbc.CardHeader(\"Card header\"),\n",
    "    dbc.CardBody( style = {'textAlign':'center'}, children=\n",
    "        [\n",
    "            html.H5(\"Gross Revenue\", style = {'font-size':40}), #, className=\"card-title\"\n",
    "            html.P(\n",
    "                gross_revenue,\n",
    "                style = {'font-size':30} #className=\"card-text\", \n",
    "            ),\n",
    "        ]\n",
    "    ),\n",
    "]\n",
    "\n",
    "monthly_card = [\n",
    "    # dbc.CardHeader(\"Card header\"),\n",
    "    dbc.CardBody(\n",
    "        [\n",
    "            html.H5(\"Monthly Highest\", className=\"card-title\"),\n",
    "            html.P(\n",
    "                monthly_highest,\n",
    "                className=\"card-text\", \n",
    "            ),\n",
    "        ],\n",
    "        style={\"height\": \"7rem\"},\n",
    "    ),\n",
    "]\n",
    "\n",
    "quarterly_card= [\n",
    "    # dbc.CardHeader(\"Card header\"),\n",
    "    dbc.CardBody(\n",
    "        [\n",
    "            html.H5(\"Quarterly Highest\", className=\"card-title\"),\n",
    "            html.P(\n",
    "                quarter_highest,\n",
    "                className=\"card-text\",\n",
    "            ),\n",
    "        ],\n",
    "       style={\"height\": \"7rem\"},\n",
    "    ),\n",
    "]\n",
    "\n",
    "yearly_card = [\n",
    "    # dbc.CardHeader(\"Card header\"),\n",
    "    dbc.CardBody(\n",
    "        [\n",
    "            html.H5(\"Yearly Highest\", className=\"card-title\"),\n",
    "            html.P(\n",
    "                yearly_highest,\n",
    "                className=\"card-text\",\n",
    "            ),\n",
    "        ],\n",
    "    style={\"height\": \"7rem\"},\n",
    "    ),\n",
    "]\n",
    "\n",
    "store_card = [\n",
    "    # dbc.CardHeader(\"Card header\"),\n",
    "    dbc.CardBody(\n",
    "        [\n",
    "            html.H5(\"Total Number of Stores\", className=\"card-title\"),\n",
    "            html.P(\n",
    "                \"45\",\n",
    "                className=\"card-text\",\n",
    "            ),\n",
    "        ]\n",
    "    ),\n",
    "]\n",
    "\n",
    "last_q_card = [\n",
    "    # dbc.CardHeader(\"Card header\"),\n",
    "    dbc.CardBody(\n",
    "        [\n",
    "            html.H5(\"Last Quarter (2012, Q2)\", className=\"card-title\"),\n",
    "            html.P(\n",
    "                last_quarter,\n",
    "                className=\"card-text\",\n",
    "            ),\n",
    "        ]\n",
    "    ),\n",
    "]\n",
    "\n",
    "gross_row = dbc.Row(\n",
    "    [\n",
    "        dbc.Col(dbc.Card(gross_card, style = {'height':'10rem', 'textAlign':'center'}, class_name=\"card text-white bg-primary mb-3\", )),#color=\"primary\", outline=True)),\n",
    "    ],\n",
    "    className=\"mb-4\",\n",
    ")\n",
    "\n",
    "high_row = dbc.Row(\n",
    "    [\n",
    "        dbc.Col(dbc.Card(monthly_card, class_name=\"card text-white bg-success mb-3\")),#color=\"primary\", outline=True)),\n",
    "        dbc.Col(dbc.Card(quarterly_card, class_name=\"card text-white bg-success mb-3\")),#color=\"secondary\", outline=True)),\n",
    "        dbc.Col(dbc.Card(yearly_card, class_name=\"card text-white bg-success mb-3\")),#color=\"info\", outline=True)),\n",
    "    ],\n",
    "    className=\"mb-4\",\n",
    ")\n",
    "\n",
    "misc_row = dbc.Row(\n",
    "    [\n",
    "        dbc.Col(dbc.Card(store_card, class_name=\"card border-success mb-3\")),#color=\"warning\", outline=True)),\n",
    "        dbc.Col(dbc.Card(last_q_card, class_name=\"card border-success mb-3\"))#color=\"danger\", outline=True)),\n",
    "    ],\n",
    "    className=\"mb-4\",\n",
    ")\n",
    "\n",
    "cards = html.Div([gross_row, high_row, misc_row])\n",
    "\n",
    "dashboard_layout = html.Div(children = [\n",
    "    cards\n",
    "    ])\n",
    "\n",
    "monthly = px.bar(\n",
    "    data_frame = mf.reset_index(),\n",
    "    x = \"Date\",\n",
    "    y=\"Weekly_Sales\",\n",
    "    color =  mf_col.index.strftime(\"%Y\"),\n",
    "    labels= {\"Weekly_Sales\":'Monthly Sales', \"Date\":'Month', 'color':'Year'},\n",
    "    barmode='relative'\n",
    ")\n",
    "\n",
    "quarterly = px.bar(\n",
    "    data_frame = qf.reset_index(),\n",
    "    x = \"Date\",\n",
    "    y = \"Weekly_Sales\",\n",
    "    color =  qf_col.index.strftime(\"%Y\"),\n",
    "    labels= {\"Weekly_Sales\":'Quarterly Sales', \"Date\":'Quarter', 'color':'Year'},\n",
    "    barmode='relative'\n",
    ")\n",
    "\n",
    "yearly = px.bar(\n",
    "    data_frame = yf.reset_index(),\n",
    "    x = \"Date\",\n",
    "    y=\"Weekly_Sales\",\n",
    "    labels={'Weekly_Sales':'Yearly Sales', 'Date':'Year'},\n",
    "    barmode='group'\n",
    ")\n",
    "\n",
    "forecast_layout = html.Div(id = 'forecast_layout', children = [\n",
    "    html.H1('Sales Forecast', style = {'textAlign':'center'}),\n",
    "    html.H3(\"Monthly Prediction\"),\n",
    "    dcc.Graph(figure = monthly),\n",
    "    html.H3(\"Quarterly Prediction\"),\n",
    "    dcc.Graph(figure = quarterly),\n",
    "    html.H3(\"Yearly Prediction\"),\n",
    "    dcc.Graph(figure = yearly),\n",
    "])\n",
    "\n",
    "dash.register_page(\"Home\",  path='/', \n",
    "                   layout=html.Div([dashboard_layout]))#, style = CONTENT_STYLE))\n",
    "dash.register_page(\"Insights\", layout = html.Div([insight_layout]))#, style = CONTENT_STYLE))\n",
    "dash.register_page(\"Forecast\", layout = html.Div([forecast_layout]))#, style = CONTENT_STYLE))\n",
    "\n",
    "sidebar = html.Div([\n",
    "    html.H4(\"Navigation\"),\n",
    "    dbc.Nav([\n",
    "        dbc.NavLink([ html.Div(page[\"name\"], className = \"ms-2\"),],\n",
    "                   href = page[\"path\"],\n",
    "                   active = \"exact\",)\n",
    "        for page in dash.page_registry.values()\n",
    "    ], horizontal = True,\n",
    "    pills = True,\n",
    "    fill = True),\n",
    "], style = SIDEBAR_STYLE)\n",
    "\n",
    "app.layout = dbc.Container([\n",
    "    dbc.Row([\n",
    "        html.Div(\"Data Analysis and Forecasting\", style = {'fontSize':40, 'textAlign':'center','padding-left':'10%'}),\n",
    "        ]),\n",
    "    html.Hr(),\n",
    "    dbc.Row([\n",
    "        dbc.Col([\n",
    "            sidebar\n",
    "         ], xs=4, sm=4, lg=2, xl=2, xxl=2),\n",
    "        \n",
    "        dbc.Col([\n",
    "            dash.page_container\n",
    "        ], xs=8, sm=8, md=10, lg=10, xl=10, xxl=10)\n",
    "    ])\n",
    "], fluid = True)\n",
    "    \n",
    "\n",
    "\n",
    "\n",
    "    \n",
    "if __name__ == '__main__':\n",
    "    app.run_server(debug=True, use_reloader=False)"
   ]
  },
  {
   "cell_type": "code",
   "execution_count": null,
   "id": "9a9ea70c",
   "metadata": {},
   "outputs": [],
   "source": []
  }
 ],
 "metadata": {
  "kernelspec": {
   "display_name": "Python 3 (ipykernel)",
   "language": "python",
   "name": "python3"
  },
  "language_info": {
   "codemirror_mode": {
    "name": "ipython",
    "version": 3
   },
   "file_extension": ".py",
   "mimetype": "text/x-python",
   "name": "python",
   "nbconvert_exporter": "python",
   "pygments_lexer": "ipython3",
   "version": "3.11.7"
  }
 },
 "nbformat": 4,
 "nbformat_minor": 5
}
