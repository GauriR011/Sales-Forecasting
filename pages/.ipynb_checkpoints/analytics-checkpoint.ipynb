{
 "cells": [
  {
   "cell_type": "code",
   "execution_count": 1,
   "id": "3d11efd1",
   "metadata": {},
   "outputs": [],
   "source": [
    "import dash\n",
    "from dash import html, dcc, callback, Input, Output"
   ]
  },
  {
   "cell_type": "code",
   "execution_count": 2,
   "id": "3fa0af28",
   "metadata": {},
   "outputs": [
    {
     "ename": "PageError",
     "evalue": "`dash.register_page()` must be called after app instantiation",
     "output_type": "error",
     "traceback": [
      "\u001b[1;31m---------------------------------------------------------------------------\u001b[0m",
      "\u001b[1;31mPageError\u001b[0m                                 Traceback (most recent call last)",
      "Cell \u001b[1;32mIn[2], line 1\u001b[0m\n\u001b[1;32m----> 1\u001b[0m \u001b[43mdash\u001b[49m\u001b[38;5;241;43m.\u001b[39;49m\u001b[43mregister_page\u001b[49m\u001b[43m(\u001b[49m\u001b[38;5;18;43m__name__\u001b[39;49m\u001b[43m)\u001b[49m\n\u001b[0;32m      3\u001b[0m layout \u001b[38;5;241m=\u001b[39m html\u001b[38;5;241m.\u001b[39mDiv([\n\u001b[0;32m      4\u001b[0m     html\u001b[38;5;241m.\u001b[39mH1(\u001b[38;5;124m'\u001b[39m\u001b[38;5;124mData Analysis and Forecasting\u001b[39m\u001b[38;5;124m'\u001b[39m),\n\u001b[0;32m      5\u001b[0m     html\u001b[38;5;241m.\u001b[39mDiv(\u001b[38;5;28mid\u001b[39m \u001b[38;5;241m=\u001b[39m \u001b[38;5;124m'\u001b[39m\u001b[38;5;124manalysis\u001b[39m\u001b[38;5;124m'\u001b[39m)\n\u001b[0;32m      6\u001b[0m ])\n",
      "File \u001b[1;32mD:\\Projects\\anaconda\\lib\\site-packages\\dash\\_pages.py:310\u001b[0m, in \u001b[0;36mregister_page\u001b[1;34m(module, path, path_template, name, order, title, description, image, image_url, redirect_from, layout, **kwargs)\u001b[0m\n\u001b[0;32m    307\u001b[0m \u001b[38;5;28;01mif\u001b[39;00m context_value\u001b[38;5;241m.\u001b[39mget()\u001b[38;5;241m.\u001b[39mget(\u001b[38;5;124m\"\u001b[39m\u001b[38;5;124mignore_register_page\u001b[39m\u001b[38;5;124m\"\u001b[39m):\n\u001b[0;32m    308\u001b[0m     \u001b[38;5;28;01mreturn\u001b[39;00m\n\u001b[1;32m--> 310\u001b[0m \u001b[43m_validate\u001b[49m\u001b[38;5;241;43m.\u001b[39;49m\u001b[43mvalidate_use_pages\u001b[49m\u001b[43m(\u001b[49m\u001b[43mCONFIG\u001b[49m\u001b[43m)\u001b[49m\n\u001b[0;32m    312\u001b[0m page \u001b[38;5;241m=\u001b[39m \u001b[38;5;28mdict\u001b[39m(\n\u001b[0;32m    313\u001b[0m     module\u001b[38;5;241m=\u001b[39m_validate\u001b[38;5;241m.\u001b[39mvalidate_module_name(module),\n\u001b[0;32m    314\u001b[0m     supplied_path\u001b[38;5;241m=\u001b[39mpath,\n\u001b[1;32m   (...)\u001b[0m\n\u001b[0;32m    318\u001b[0m     name\u001b[38;5;241m=\u001b[39mname \u001b[38;5;28;01mif\u001b[39;00m name \u001b[38;5;129;01mis\u001b[39;00m \u001b[38;5;129;01mnot\u001b[39;00m \u001b[38;5;28;01mNone\u001b[39;00m \u001b[38;5;28;01melse\u001b[39;00m _module_name_to_page_name(module),\n\u001b[0;32m    319\u001b[0m )\n\u001b[0;32m    320\u001b[0m page\u001b[38;5;241m.\u001b[39mupdate(\n\u001b[0;32m    321\u001b[0m     supplied_title\u001b[38;5;241m=\u001b[39mtitle,\n\u001b[0;32m    322\u001b[0m     title\u001b[38;5;241m=\u001b[39m(title \u001b[38;5;28;01mif\u001b[39;00m title \u001b[38;5;129;01mis\u001b[39;00m \u001b[38;5;129;01mnot\u001b[39;00m \u001b[38;5;28;01mNone\u001b[39;00m \u001b[38;5;28;01melse\u001b[39;00m page[\u001b[38;5;124m\"\u001b[39m\u001b[38;5;124mname\u001b[39m\u001b[38;5;124m\"\u001b[39m]),\n\u001b[0;32m    323\u001b[0m )\n",
      "File \u001b[1;32mD:\\Projects\\anaconda\\lib\\site-packages\\dash\\_validate.py:474\u001b[0m, in \u001b[0;36mvalidate_use_pages\u001b[1;34m(config)\u001b[0m\n\u001b[0;32m    472\u001b[0m \u001b[38;5;28;01mdef\u001b[39;00m \u001b[38;5;21mvalidate_use_pages\u001b[39m(config):\n\u001b[0;32m    473\u001b[0m     \u001b[38;5;28;01mif\u001b[39;00m \u001b[38;5;129;01mnot\u001b[39;00m config\u001b[38;5;241m.\u001b[39mget(\u001b[38;5;124m\"\u001b[39m\u001b[38;5;124massets_folder\u001b[39m\u001b[38;5;124m\"\u001b[39m, \u001b[38;5;28;01mNone\u001b[39;00m):\n\u001b[1;32m--> 474\u001b[0m         \u001b[38;5;28;01mraise\u001b[39;00m exceptions\u001b[38;5;241m.\u001b[39mPageError(\n\u001b[0;32m    475\u001b[0m             \u001b[38;5;124m\"\u001b[39m\u001b[38;5;124m`dash.register_page()` must be called after app instantiation\u001b[39m\u001b[38;5;124m\"\u001b[39m\n\u001b[0;32m    476\u001b[0m         )\n\u001b[0;32m    478\u001b[0m     \u001b[38;5;28;01mif\u001b[39;00m flask\u001b[38;5;241m.\u001b[39mhas_request_context():\n\u001b[0;32m    479\u001b[0m         \u001b[38;5;28;01mraise\u001b[39;00m exceptions\u001b[38;5;241m.\u001b[39mPageError(\n\u001b[0;32m    480\u001b[0m             \u001b[38;5;124;03m\"\"\"\u001b[39;00m\n\u001b[0;32m    481\u001b[0m \u001b[38;5;124;03m            dash.register_page() can’t be called within a callback as it updates dash.page_registry, which is a global variable.\u001b[39;00m\n\u001b[0;32m    482\u001b[0m \u001b[38;5;124;03m             For more details, see https://dash.plotly.com/sharing-data-between-callbacks#why-global-variables-will-break-your-app\u001b[39;00m\n\u001b[0;32m    483\u001b[0m \u001b[38;5;124;03m            \"\"\"\u001b[39;00m\n\u001b[0;32m    484\u001b[0m         )\n",
      "\u001b[1;31mPageError\u001b[0m: `dash.register_page()` must be called after app instantiation"
     ]
    }
   ],
   "source": [
    "dash.register_page(__name__)\n",
    "\n",
    "layout = html.Div([\n",
    "    html.H1('Data Analysis and Forecasting'),\n",
    "    html.Div(id = 'analysis')\n",
    "])"
   ]
  },
  {
   "cell_type": "code",
   "execution_count": null,
   "id": "720c49ad",
   "metadata": {},
   "outputs": [],
   "source": []
  }
 ],
 "metadata": {
  "kernelspec": {
   "display_name": "Python 3 (ipykernel)",
   "language": "python",
   "name": "python3"
  },
  "language_info": {
   "codemirror_mode": {
    "name": "ipython",
    "version": 3
   },
   "file_extension": ".py",
   "mimetype": "text/x-python",
   "name": "python",
   "nbconvert_exporter": "python",
   "pygments_lexer": "ipython3",
   "version": "3.10.9"
  }
 },
 "nbformat": 4,
 "nbformat_minor": 5
}
