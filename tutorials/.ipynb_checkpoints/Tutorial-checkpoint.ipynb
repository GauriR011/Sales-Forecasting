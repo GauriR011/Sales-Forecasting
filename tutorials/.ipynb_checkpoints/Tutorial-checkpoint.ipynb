{
 "cells": [
  {
   "cell_type": "code",
   "execution_count": 2,
   "id": "2c626f64",
   "metadata": {},
   "outputs": [
    {
     "name": "stdout",
     "output_type": "stream",
     "text": [
      "Dash is running on http://127.0.0.1:8050/\n",
      "\n",
      " * Serving Flask app '__main__'\n",
      " * Debug mode: on\n"
     ]
    }
   ],
   "source": [
    "# Import packages\n",
    "# dcc - dash core components\n",
    "\n",
    "from dash import Dash, html, dash_table, dcc, callback, Output, Input\n",
    "import pandas as pd\n",
    "import plotly.express as px\n",
    "import dash_mantine_components as dmc\n",
    "\n",
    "# If you're using an Excel sheet, make sure to pip install openpyxl. \n",
    "# Then, update the line of code to: \n",
    "#                df = pd.read_excel('NameOfYourFile.xlsx', sheet_name='Sheet1')\n",
    "\n",
    "#data\n",
    "df = pd.read_csv('https://raw.githubusercontent.com/plotly/datasets/master/gapminder2007.csv')\n",
    "\n",
    "#initialise the app\n",
    "external_stylesheets = [dmc.theme.DEFAULT_COLORS]\n",
    "app = Dash(__name__, external_stylesheets = external_stylesheets)\n",
    "\n",
    "#app layout using dash_mantine_components\n",
    "app.layout = dmc.Container([\n",
    "    dmc.Title('Dash App with Mantine Components', color=\"blue\", size=\"h3\"),\n",
    "    dmc.RadioGroup(\n",
    "        [dmc.Radio(i, value = i) for i in ['pop', 'lifeExp', 'gdpPercap']],\n",
    "        id = 'my-dmc-radio-item',\n",
    "        value = 'lifeExp',\n",
    "        size = \"sm\"\n",
    "    ),\n",
    "    dmc.Grid([\n",
    "        dmc.Col([\n",
    "            dash_table.DataTable(data = df.to_dict('records'), page_size = 12, style_table = {'overflowX': 'auto'})\n",
    "        ], span = 6),\n",
    "        dmc.Col([dcc.Graph(figure = {}, id = 'graph-placeholder')\n",
    "        ], span = 6),\n",
    "    ]),\n",
    "], fluid = True)\n",
    "#app layout\n",
    "# app.layout = html.Div([\n",
    "#     html.Div(children = '20 min tutorial'),\n",
    "#     html.Hr(),\n",
    "#     dcc.RadioItems(options = ['pop', 'lifeExp', 'gdpPercap'], value = 'lifeExp', id='controls-and-radio-item'),\n",
    "#     dash_table.DataTable(data = df.to_dict('records'), page_size = 6),\n",
    "#     dcc.Graph(figure = {}, id = 'controls-and-graph')\n",
    "# ])\n",
    "\n",
    "@callback(\n",
    "    Output(component_id = 'graph-placeholder', component_property = 'figure'),\n",
    "    Input(component_id = 'my-dmc-radio-item', component_property = 'value')\n",
    ")\n",
    "def update_graph(col_chosen):\n",
    "    fig = px.histogram(df, x = 'continent', y = col_chosen, histfunc = 'avg')\n",
    "    return fig\n",
    "#run app\n",
    "if __name__ == '__main__':\n",
    "    app.run(debug = True, use_reloader = False)"
   ]
  },
  {
   "cell_type": "code",
   "execution_count": null,
   "id": "5ceae2e5",
   "metadata": {},
   "outputs": [],
   "source": []
  },
  {
   "cell_type": "code",
   "execution_count": null,
   "id": "fd5658bc",
   "metadata": {},
   "outputs": [],
   "source": []
  }
 ],
 "metadata": {
  "kernelspec": {
   "display_name": "Python 3 (ipykernel)",
   "language": "python",
   "name": "python3"
  },
  "language_info": {
   "codemirror_mode": {
    "name": "ipython",
    "version": 3
   },
   "file_extension": ".py",
   "mimetype": "text/x-python",
   "name": "python",
   "nbconvert_exporter": "python",
   "pygments_lexer": "ipython3",
   "version": "3.10.9"
  }
 },
 "nbformat": 4,
 "nbformat_minor": 5
}
